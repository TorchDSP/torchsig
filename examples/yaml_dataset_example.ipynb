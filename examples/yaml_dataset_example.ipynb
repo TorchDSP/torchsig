{
 "cells": [
  {
   "cell_type": "markdown",
   "id": "72ac19c9-296e-4631-bca6-f4cd1961b0f8",
   "metadata": {},
   "source": [
    "# Saving and loading Datasets From YAML\n",
    "This notebook showcases how TorchSig datasets can be saved as YAML files and loaded from YAML later for convenience. \n",
    "This is useful when trying to share or version control a large dataset so that it can be reproduced exactly across different teams, but without sharing large arrays of data or different dataset creation scripts.\n",
    "\n",
    "---"
   ]
  },
  {
   "cell_type": "markdown",
   "id": "f02d5074-ab5f-40a3-9ed6-740aa9efc192",
   "metadata": {},
   "source": [
    "## Saving to YAML\n",
    "The dataset below is saved to a YAML file for use later. \n",
    "Since we give a seed to the dataset, the yaml file will store that seed and use it to reproduce the exact data every time we load from the YAML."
   ]
  },
  {
   "cell_type": "code",
   "execution_count": null,
   "id": "0cf57051-abbf-4f96-b480-9a1df4f60775",
   "metadata": {},
   "outputs": [],
   "source": [
    "from torchsig.utils.defaults import default_dataset\n",
    "from torchsig.utils.yaml import save_dataset_yaml, load_dataset_yaml"
   ]
  },
  {
   "cell_type": "code",
   "execution_count": null,
   "id": "c8984a8b-cd7d-44a0-8b02-0a64ad99300a",
   "metadata": {},
   "outputs": [],
   "source": [
    "filepath = \"./datasets/yaml_test_dataset\""
   ]
  },
  {
   "cell_type": "code",
   "execution_count": null,
   "id": "41f5241e-99c7-4848-b5f4-e0024b9d1d8e",
   "metadata": {},
   "outputs": [],
   "source": [
    "dataset = default_dataset(seed=42, target_labels=[\"class_name\",\"snr_db\"], impairment_level=None) # basic default dataset used for testing\n",
    "save_dataset_yaml(filepath, dataset)"
   ]
  },
  {
   "cell_type": "code",
   "execution_count": null,
   "id": "fe000c3b-d271-4c82-b94b-596d7122e5b8",
   "metadata": {},
   "outputs": [],
   "source": [
    "print(next(dataset))\n",
    "print(next(dataset))\n",
    "print(next(dataset))"
   ]
  },
  {
   "cell_type": "markdown",
   "id": "5f99dbad-7cee-47e2-b251-ccebe24cd94b",
   "metadata": {},
   "source": [
    "## Loading from YAML\n",
    "Now we load a copy of the same dataset. Because the copy loads the same random seed from YAML, the values returned below should match the values above."
   ]
  },
  {
   "cell_type": "code",
   "execution_count": null,
   "id": "640eed4f-a9aa-4d26-bb2b-76b69751da18",
   "metadata": {},
   "outputs": [],
   "source": [
    "dataset_copy = load_dataset_yaml(filepath)"
   ]
  },
  {
   "cell_type": "code",
   "execution_count": null,
   "id": "b258e9e5-749b-4464-bbda-320fedf48fb5",
   "metadata": {},
   "outputs": [],
   "source": [
    "print(next(dataset_copy))\n",
    "print(next(dataset_copy))\n",
    "print(next(dataset_copy))"
   ]
  },
  {
   "cell_type": "markdown",
   "id": "11840cab-91e1-4ea4-aa23-9500b24389ea",
   "metadata": {},
   "source": [
    "### NOTE:\n",
    "As of torchsig 2.0.0, saving transforms via YAML is not supported, so to ensure a perfect match either the dataset must not contain transforms, or the same transforms with the same arguments must be added to the loaded dataset after loading"
   ]
  }
 ],
 "metadata": {
  "kernelspec": {
   "display_name": "Python 3",
   "language": "python",
   "name": "python3"
  },
  "language_info": {
   "codemirror_mode": {
    "name": "ipython",
    "version": 3
   },
   "file_extension": ".py",
   "mimetype": "text/x-python",
   "name": "python",
   "nbconvert_exporter": "python",
   "pygments_lexer": "ipython3",
   "version": "3.10.12"
  }
 },
 "nbformat": 4,
 "nbformat_minor": 5
}
