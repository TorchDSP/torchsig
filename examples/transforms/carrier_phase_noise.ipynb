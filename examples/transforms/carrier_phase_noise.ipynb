{
 "cells": [
  {
   "cell_type": "markdown",
   "id": "71d06404-6c20-40be-a8b7-9788df6ec9d5",
   "metadata": {},
   "source": [
    "# Carrier Phase Noise\n",
    "\n",
    "This notebook demonstates the functional of the carrier phase noise transform. The transform models the carrier having a phase which is represented by a Gaussian random variable with zero mean and whose standard deviation is parameterizable. It simulates a type of carrier modulation where the phase on average is correct but varies over time. It simulates the error and uncertainty of the real-world parameter due to manufacturing tolerance, temperature variation and other factors."
   ]
  },
  {
   "cell_type": "code",
   "execution_count": null,
   "id": "412f7598-c06e-42aa-bc26-1f26abfb4043",
   "metadata": {},
   "outputs": [],
   "source": [
    "import torchsig.transforms.functional as F\n",
    "\n",
    "import numpy as np\n",
    "import scipy as sp\n",
    "%matplotlib inline\n",
    "import matplotlib.pyplot as plt"
   ]
  },
  {
   "cell_type": "markdown",
   "id": "5e5fb4f2",
   "metadata": {},
   "source": [
    "A tone signal is generated to test the carrier phase noise transform. The error is defined in degrees. A larger phase noise represents a phase error on average. Using 0 degree error will result in no phase noise and a pure carrier tone."
   ]
  },
  {
   "cell_type": "code",
   "execution_count": null,
   "id": "2c01adb2-e4a1-4066-baa8-72b9726ee8bb",
   "metadata": {},
   "outputs": [],
   "source": [
    "sample_rate = 10e6\n",
    "rng = np.random.default_rng(42)\n",
    "\n",
    "N = 8192\n",
    "\n",
    "n = np.arange(0,N)\n",
    "t = n/sample_rate\n",
    "#center_frequency = 0\n",
    "center_frequency = sample_rate/N\n",
    "tone_bb_data = np.exp(2j*np.pi*center_frequency*t)\n",
    "\n",
    "phase_noise_degrees = 1\n",
    "\n",
    "data_out = F.carrier_phase_noise(\n",
    "    data = tone_bb_data,\n",
    "    phase_noise_degrees = phase_noise_degrees,\n",
    "    rng = rng\n",
    ")\n"
   ]
  },
  {
   "cell_type": "markdown",
   "id": "fb194b77",
   "metadata": {},
   "source": [
    "Time-domain plots show how the phase noise effects the complex sinusoid input. For small phase noise errors the effect will may not be visible in the time domain."
   ]
  },
  {
   "cell_type": "code",
   "execution_count": null,
   "id": "eaa8858a",
   "metadata": {},
   "outputs": [],
   "source": [
    "\n",
    "fig = plt.figure(figsize=(10,6))\n",
    "fig.subplots_adjust(hspace=0.5)\n",
    "ax = fig.add_subplot(2,1,1)\n",
    "ax.plot(t,np.real(tone_bb_data),label='Real, Input Tone')\n",
    "ax.plot(t,np.imag(tone_bb_data),label='Imag, Input Tone')\n",
    "ylim = np.max(np.abs(tone_bb_data))*1.1\n",
    "ax.set_ylim([-ylim,ylim])\n",
    "ax.set_xlim([t[0],t[-1]])\n",
    "ax.set_xlabel('Time (s)')\n",
    "ax.set_ylabel('Amplitude')\n",
    "ax.grid()\n",
    "ax.legend(loc='upper right')\n",
    "\n",
    "ax = fig.add_subplot(2,1,2)\n",
    "ax.plot(t,np.real(data_out),label='Real, Tone with Phase Noise')\n",
    "ax.plot(t,np.imag(data_out),label='Imag, Tone with Phase Noise')\n",
    "ax.set_ylim([-ylim,ylim])\n",
    "ax.set_xlim([t[0],t[-1]])\n",
    "ax.set_xlabel('Time (s)')\n",
    "ax.set_ylabel('Amplitude')\n",
    "ax.grid()\n",
    "ax.legend(loc='upper right')\n",
    "\n"
   ]
  },
  {
   "cell_type": "markdown",
   "id": "3cf5517e",
   "metadata": {},
   "source": [
    "The phase noise effect can also be seen in the frequency domain. The input tone is plotted against the tone with phase noise. The variance of the phase parameter acts as a type of modulation, thereby increasing the bandwidth of the tone. Larger errors will increase the amount of modulation. This effect is seen in the frequency domain by the increase in bandwidth and the raising of sidelobes beyond the unmodulated input carrier."
   ]
  },
  {
   "cell_type": "code",
   "execution_count": null,
   "id": "e71ed33c",
   "metadata": {},
   "outputs": [],
   "source": [
    "win = sp.signal.windows.blackmanharris(len(tone_bb_data))\n",
    "fft_size = 2**20\n",
    "f = np.linspace(-0.5,0.5-(1/fft_size),fft_size)*sample_rate\n",
    "fig = plt.figure(figsize=(12,8))\n",
    "ax = fig.add_subplot(1,1,1)\n",
    "ax.plot(f,20*np.log10(np.abs(np.fft.fftshift(np.fft.fft(tone_bb_data*win,fft_size)))),label='Input Tone')\n",
    "ax.plot(f,20*np.log10(np.abs(np.fft.fftshift(np.fft.fft(data_out*win,fft_size)))),'--',label='Output Tone with Phase Noise')\n",
    "ax.legend(loc='upper right')\n",
    "ax.set_xlim([-100000+center_frequency,100000+center_frequency])\n",
    "ax.grid()\n",
    "ax.set_ylabel('Magnitude (dB)')\n",
    "ax.set_xlabel('Frequency (Hz)')\n"
   ]
  },
  {
   "cell_type": "markdown",
   "id": "09c509ef",
   "metadata": {},
   "source": [
    "The instantaneous frequency and phase are calculated from the impaired signal. The time domain plot shows how the instantenous phase, or \"phase ramp\", includes an underying noise due to the impairment. Similarly, the frequency error is plotted which varies on a sample-by-sample basis."
   ]
  },
  {
   "cell_type": "code",
   "execution_count": null,
   "id": "b1fdd61e",
   "metadata": {},
   "outputs": [],
   "source": [
    "phase = np.unwrap(np.angle(data_out))*(sample_rate/(2*np.pi))\n",
    "frequency = np.diff(phase)-center_frequency\n",
    "\n",
    "fig = plt.figure(figsize=(12,6))\n",
    "fig.subplots_adjust(hspace=0.5,wspace=0.5)\n",
    "\n",
    "ax = fig.add_subplot(2,1,1)\n",
    "ax.plot(t[0:1000],phase[0:1000])\n",
    "ax.set_title('Instantaneous Phase of Signal with Phase Noise')\n",
    "ax.set_xlabel('Time (s)')\n",
    "ax.set_ylabel('Frequency (Hz)')\n",
    "ax.grid()\n",
    "\n",
    "ax = fig.add_subplot(2,1,2)\n",
    "ax.plot(t[:-1],frequency)\n",
    "ax.set_title('Instantaneous Frequency Error of Signal with Phase Noise')\n",
    "ax.set_xlabel('Time (s)')\n",
    "ax.set_ylabel('Frequency (Hz)')\n",
    "ax.grid()\n"
   ]
  },
  {
   "cell_type": "code",
   "execution_count": null,
   "id": "d5ce439b",
   "metadata": {},
   "outputs": [],
   "source": [
    "from torchsig.signals.signal_types import Signal\n",
    "from torchsig.signals.builders import constellation_maps\n",
    "\n",
    "def generate_qpsk_symbols(num_iq_samples: int = 128) -> np.ndarray:\n",
    "\n",
    "    symbol_map = constellation_maps.all_symbol_maps['qpsk']\n",
    "    symbol_index = np.random.randint(0,len(symbol_map),num_iq_samples)\n",
    "    symbols = symbol_map[symbol_index]\n",
    "\n",
    "    return symbols"
   ]
  },
  {
   "cell_type": "code",
   "execution_count": null,
   "id": "0697c7b4",
   "metadata": {},
   "outputs": [],
   "source": [
    "# test data\n",
    "N = 1024\n",
    "qpsk_data = generate_qpsk_symbols(num_iq_samples = N)\n",
    "\n",
    "# phase noise\n",
    "impaired_qpsk_data = F.carrier_phase_noise(\n",
    "    data = qpsk_data,\n",
    "    phase_noise_degrees=phase_noise_degrees\n",
    ")\n",
    "\n",
    "fig = plt.figure(figsize=(6,6))\n",
    "ax = fig.add_subplot(1,1,1)\n",
    "ax.set_box_aspect(1)\n",
    "ax.plot(np.real(impaired_qpsk_data),np.imag(impaired_qpsk_data),'x',label='Phase Noise')\n",
    "ax.plot(np.real(qpsk_data),np.imag(qpsk_data),'o',alpha=0.5,label='Input')\n",
    "ax.grid()\n",
    "ax.set_title('Constellation Plot')\n",
    "ax.set_xlabel('Real')\n",
    "ax.set_ylabel('Imag')\n",
    "ax.legend(fontsize='large', loc='center');\n"
   ]
  }
 ],
 "metadata": {
  "kernelspec": {
   "display_name": "Python 3",
   "language": "python",
   "name": "python3"
  },
  "language_info": {
   "codemirror_mode": {
    "name": "ipython",
    "version": 3
   },
   "file_extension": ".py",
   "mimetype": "text/x-python",
   "name": "python",
   "nbconvert_exporter": "python",
   "pygments_lexer": "ipython3",
   "version": "3.10.12"
  }
 },
 "nbformat": 4,
 "nbformat_minor": 5
}
