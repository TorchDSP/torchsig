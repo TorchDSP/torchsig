{
 "cells": [
  {
   "cell_type": "markdown",
   "id": "71d06404-6c20-40be-a8b7-9788df6ec9d5",
   "metadata": {},
   "source": [
    "# Passband Ripple"
   ]
  },
  {
   "cell_type": "code",
   "execution_count": null,
   "id": "412f7598-c06e-42aa-bc26-1f26abfb4043",
   "metadata": {},
   "outputs": [],
   "source": [
    "import torchsig.transforms.functional as F\n",
    "from torchsig.signals.builders.constellation import ConstellationSignalBuilder\n",
    "from torchsig.signals.signal_types import Signal\n",
    "from torchsig.datasets.dataset_metadata import DatasetMetadata\n",
    "\n",
    "import numpy as np\n",
    "import scipy.signal as signal\n",
    "%matplotlib inline\n",
    "import matplotlib.pyplot as plt"
   ]
  },
  {
   "cell_type": "code",
   "execution_count": null,
   "id": "c056fd84",
   "metadata": {},
   "outputs": [],
   "source": [
    "def generate_qpsk_signal(num_iq_samples: int = 128, scale: float = 1.0) -> Signal:\n",
    "    \"\"\"Generate a scaled, high SNR baseband QPSK Signal.\n",
    "\n",
    "        Args:\n",
    "        num_iq_samples (int, optional): Length of sample. Defaults to 10.\n",
    "        scale (int, optional): scale normalized signal data. Defaults to 1.0.\n",
    "\n",
    "        Returns:\n",
    "            signal: generated Signal \n",
    "\n",
    "    \"\"\"\n",
    "    sample_rate = 10e6\n",
    "    md = DatasetMetadata(\n",
    "        num_iq_samples_dataset = num_iq_samples,\n",
    "        fft_size = 4,\n",
    "        impairment_level = 0,\n",
    "        sample_rate = sample_rate,\n",
    "        num_signals_max = 1,\n",
    "        num_signals_min = 1,\n",
    "        num_signals_distribution = [1.0],\n",
    "        snr_db_min = 100.0,\n",
    "        snr_db_max = 100.0,\n",
    "        signal_duration_min = 1.00*num_iq_samples/sample_rate,\n",
    "        signal_duration_max = 1.00*num_iq_samples/sample_rate,\n",
    "        signal_bandwidth_min = sample_rate/4,\n",
    "        signal_bandwidth_max = sample_rate/4,\n",
    "        signal_center_freq_min = 0.0,\n",
    "        signal_center_freq_max = 0.0,         \n",
    "        class_list = ['qpsk'],\n",
    "        class_distribution = [1.0],\n",
    "        seed = 42\n",
    "    )\n",
    "\n",
    "    builder = ConstellationSignalBuilder(\n",
    "        dataset_metadata = md, \n",
    "        class_name = 'qpsk',\n",
    "        seed = 42\n",
    "    )\n",
    "    signal = builder.build()\n",
    "\n",
    "    # normalize, then scale data   \n",
    "    signal.data = F.normalize(\n",
    "        data = signal.data,\n",
    "        norm_order = 2,\n",
    "        flatten = False\n",
    "    )\n",
    "    signal.data = np.multiply(signal.data, scale)\n",
    "\n",
    "    return signal"
   ]
  },
  {
   "cell_type": "code",
   "execution_count": null,
   "id": "86bebbad-e08c-4a31-9793-865d749db47a",
   "metadata": {},
   "outputs": [],
   "source": [
    "# test data\n",
    "N = 1024\n",
    "qpsk_data = generate_qpsk_signal(num_iq_samples = N, scale = 1.0).data\n",
    "\n",
    "# apply transform\n",
    "data_out = F.passband_ripple(\n",
    "    data = qpsk_data,\n",
    "    num_taps = 3,\n",
    "    coefficient_decay_rate=2,\n",
    "    max_ripple_db=2\n",
    ")\n",
    "\n",
    "### Plots\n",
    "fig = plt.figure(figsize=(10,8))\n",
    "ax = fig.add_subplot(2,1,1)\n",
    "fft_size = N\n",
    "f = np.linspace(-0.5,0.5-(1/fft_size),fft_size)\n",
    "ax.plot(f,20*np.log10(np.abs(np.fft.fftshift(np.fft.fft(qpsk_data)))),label='Input Signal')\n",
    "ax.plot(f,20*np.log10(np.abs(np.fft.fftshift(np.fft.fft(data_out)))),label='Ripple Applied')\n",
    "ax.set_ylabel('Magnitude (dB)')\n",
    "ax.legend()\n",
    "ax.grid()\n",
    "ax.set_ylim([-60,15])\n",
    "\n",
    "ax = fig.add_subplot(2,1,2)\n",
    "fft_size = N\n",
    "f = np.linspace(-0.5,0.5-(1/fft_size),fft_size)\n",
    "ax.plot(f,20*np.log10(np.abs(np.fft.fftshift(np.fft.fft(qpsk_data)))),label='Input Signal')\n",
    "ax.plot(f,20*np.log10(np.abs(np.fft.fftshift(np.fft.fft(data_out)))),alpha=0.5,label='Ripple Applied')\n",
    "ax.set_ylabel('Magnitude (dB)')\n",
    "ax.legend()\n",
    "ax.grid()\n",
    "ax.set_ylim([-10,15])\n",
    "\n",
    "\n"
   ]
  },
  {
   "cell_type": "markdown",
   "id": "f0b83469-ef00-4892-9b85-cfa8f57a1bbf",
   "metadata": {},
   "source": [
    "#### "
   ]
  }
 ],
 "metadata": {
  "kernelspec": {
   "display_name": "Python 3",
   "language": "python",
   "name": "python3"
  },
  "language_info": {
   "codemirror_mode": {
    "name": "ipython",
    "version": 3
   },
   "file_extension": ".py",
   "mimetype": "text/x-python",
   "name": "python",
   "nbconvert_exporter": "python",
   "pygments_lexer": "ipython3",
   "version": "3.10.12"
  }
 },
 "nbformat": 4,
 "nbformat_minor": 5
}
