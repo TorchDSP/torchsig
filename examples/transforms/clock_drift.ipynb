{
 "cells": [
  {
   "cell_type": "markdown",
   "id": "71d06404-6c20-40be-a8b7-9788df6ec9d5",
   "metadata": {},
   "source": [
    "# Clock Drift\n",
    "\n",
    "This notebook demonstates the functional of the clock drift transform. The transform models the sampling rate having some error, represented by an accumulate Gaussian random variable whose mean is zero and whose variance is according to the PPM error parameter. The effect will increase or decrease the sampling rate randomly over the course of the input signal. Over long sequences this will produce a handful of more or less samples than were input."
   ]
  },
  {
   "cell_type": "code",
   "execution_count": null,
   "id": "83bdc715",
   "metadata": {},
   "outputs": [],
   "source": [
    "import torchsig.transforms.functional as F\n",
    "\n",
    "import numpy as np\n",
    "import scipy as sp\n",
    "%matplotlib inline\n",
    "import matplotlib.pyplot as plt"
   ]
  },
  {
   "cell_type": "markdown",
   "id": "412f7598-c06e-42aa-bc26-1f26abfb4043",
   "metadata": {},
   "source": [
    "A tone signal is generated to test the clock drift transform. The error is defined in parts-per-million (PPM). A larger PPM represents a larger frequency error on average. Using 0 PPM will result in no drift."
   ]
  },
  {
   "cell_type": "code",
   "execution_count": null,
   "id": "6afa7e07",
   "metadata": {},
   "outputs": [],
   "source": [
    "# test functional\n",
    "rng = np.random.default_rng(42)\n",
    "\n",
    "N = 10000\n",
    "sample_rate = 10e6\n",
    "#center_frequency = 0\n",
    "center_frequency = sample_rate/N\n",
    "n = np.arange(0,N)\n",
    "t = n/sample_rate\n",
    "tone_bb_data = np.exp(2j*np.pi*center_frequency*t)\n",
    "\n",
    "drift_ppm=1\n",
    "\n",
    "data_out = F.clock_drift(\n",
    "    data = tone_bb_data,\n",
    "    drift_ppm = drift_ppm,\n",
    "    rng = rng\n",
    ")"
   ]
  },
  {
   "cell_type": "markdown",
   "id": "880ea4dd",
   "metadata": {},
   "source": [
    "Time-domain plots show how the clock drift effects the complex sinusoid input. For small PPM errors the effect will may not be visible in the time domain."
   ]
  },
  {
   "cell_type": "code",
   "execution_count": null,
   "id": "e3dc1a42",
   "metadata": {},
   "outputs": [],
   "source": [
    "fig = plt.figure(figsize=(10,6))\n",
    "fig.subplots_adjust(hspace=0.5)\n",
    "ax = fig.add_subplot(2,1,1)\n",
    "ax.plot(t,np.real(tone_bb_data),label='Real, Input Tone')\n",
    "ax.plot(t,np.imag(tone_bb_data),label='Imag, Input Tone')\n",
    "ylim = np.max(np.abs(tone_bb_data))*1.1\n",
    "ax.set_ylim([-ylim,ylim])\n",
    "ax.set_xlim([t[0],t[-1]])\n",
    "ax.set_xlabel('Time (s)')\n",
    "ax.set_ylabel('Amplitude')\n",
    "ax.grid()\n",
    "ax.legend(loc='upper right')\n",
    "\n",
    "ax = fig.add_subplot(2,1,2)\n",
    "ax.plot(t,np.real(data_out),label='Real, Tone with Clock Drift')\n",
    "ax.plot(t,np.imag(data_out),label='Imag, Tone with Clock Drift')\n",
    "ax.set_ylim([-ylim,ylim])\n",
    "ax.set_xlim([t[0],t[-1]])\n",
    "ax.set_xlabel('Time (s)')\n",
    "ax.set_ylabel('Amplitude')\n",
    "ax.grid()\n",
    "ax.legend(loc='upper right')"
   ]
  },
  {
   "cell_type": "code",
   "execution_count": null,
   "id": "65f03cf5",
   "metadata": {},
   "outputs": [],
   "source": [
    "from torchsig.signals.signal_types import Signal\n",
    "from torchsig.datasets.dataset_metadata import DatasetMetadata\n",
    "from torchsig.signals.builders import ConstellationSignalBuilder\n",
    "def generate_qpsk_signal(num_iq_samples: int = 128, scale: float = 1.0) -> Signal:\n",
    "    \"\"\"Generate a scaled, high SNR baseband QPSK Signal.\n",
    "\n",
    "        Args:\n",
    "        num_iq_samples (int, optional): Length of sample. Defaults to 10.\n",
    "        scale (int, optional): scale normalized signal data. Defaults to 1.0.\n",
    "\n",
    "        Returns:\n",
    "            signal: generated Signal \n",
    "\n",
    "    \"\"\"\n",
    "    sample_rate = 10e6\n",
    "    md = DatasetMetadata(\n",
    "        num_iq_samples_dataset = num_iq_samples,\n",
    "        fft_size = 4,\n",
    "        impairment_level = 0,\n",
    "        sample_rate = sample_rate,\n",
    "        num_signals_max = 1,\n",
    "        num_signals_min = 1,\n",
    "        num_signals_distribution = [1.0],\n",
    "        snr_db_min = 100.0,\n",
    "        snr_db_max = 100.0,\n",
    "        signal_duration_min = 1.00*num_iq_samples/sample_rate,\n",
    "        signal_duration_max = 1.00*num_iq_samples/sample_rate,\n",
    "        signal_bandwidth_min = sample_rate/4,\n",
    "        signal_bandwidth_max = sample_rate/4,\n",
    "        signal_center_freq_min = 0.0,\n",
    "        signal_center_freq_max = 0.0,         \n",
    "        class_list = ['qpsk'],\n",
    "        class_distribution = [1.0],\n",
    "        seed = 42\n",
    "    )\n",
    "\n",
    "    builder = ConstellationSignalBuilder(\n",
    "        dataset_metadata = md, \n",
    "        class_name = 'qpsk',\n",
    "        seed = 42\n",
    "    )\n",
    "    signal = builder.build()\n",
    "\n",
    "    # normalize, then scale data   \n",
    "    signal.data = F.normalize(\n",
    "        data = signal.data,\n",
    "        norm_order = 2,\n",
    "        flatten = False\n",
    "    )\n",
    "    signal.data = np.multiply(signal.data, scale)\n",
    "\n",
    "    return signal.data"
   ]
  },
  {
   "cell_type": "markdown",
   "id": "d4b79628",
   "metadata": {},
   "source": [
    "A QPSK signal is used to demonstrate the drift. A larger drift PPM value is used to make the effect more obvious."
   ]
  },
  {
   "cell_type": "code",
   "execution_count": null,
   "id": "b14b1ec7",
   "metadata": {},
   "outputs": [],
   "source": [
    "# test data\n",
    "N = 128\n",
    "qpsk_data = generate_qpsk_signal(num_iq_samples = N)\n",
    "\n",
    "# phase noise\n",
    "impaired_qpsk_data = F.clock_drift(\n",
    "    data = qpsk_data,\n",
    "    drift_ppm=drift_ppm*100\n",
    ")\n",
    "\n",
    "n = np.arange(0,len(qpsk_data))\n",
    "t = n/sample_rate\n",
    "\n",
    "fig = plt.figure(figsize=(10,6))\n",
    "fig.subplots_adjust(hspace=0.5)\n",
    "ax = fig.add_subplot(2,1,1)\n",
    "ax.plot(t,np.real(qpsk_data),label='Real, Input QPSK')\n",
    "ax.plot(t,np.real(impaired_qpsk_data),label='Real, QPSK with Drift')\n",
    "ylim = np.max(np.abs(qpsk_data))*1.1\n",
    "#ax.set_ylim([-ylim,ylim])\n",
    "ax.set_xlim([t[0],t[-1]])\n",
    "ax.set_xlabel('Time (s)')\n",
    "ax.set_ylabel('Amplitude')\n",
    "ax.grid()\n",
    "ax.legend(loc='upper right')\n",
    "\n",
    "ax = fig.add_subplot(2,1,2)\n",
    "ax.plot(t,np.imag(qpsk_data),label='Imag, Input QPSK')\n",
    "ax.plot(t,np.imag(impaired_qpsk_data),label='Imag, QPSK with Drift')\n",
    "ax.set_ylim([-ylim,ylim])\n",
    "ax.set_xlim([t[0],t[-1]])\n",
    "ax.set_xlabel('Time (s)')\n",
    "ax.set_ylabel('Amplitude')\n",
    "ax.grid()\n",
    "ax.legend(loc='upper right')"
   ]
  }
 ],
 "metadata": {
  "kernelspec": {
   "display_name": "Python 3",
   "language": "python",
   "name": "python3"
  },
  "language_info": {
   "codemirror_mode": {
    "name": "ipython",
    "version": 3
   },
   "file_extension": ".py",
   "mimetype": "text/x-python",
   "name": "python",
   "nbconvert_exporter": "python",
   "pygments_lexer": "ipython3",
   "version": "3.10.12"
  }
 },
 "nbformat": 4,
 "nbformat_minor": 5
}
