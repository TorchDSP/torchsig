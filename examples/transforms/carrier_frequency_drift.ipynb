{
 "cells": [
  {
   "cell_type": "markdown",
   "id": "71d06404-6c20-40be-a8b7-9788df6ec9d5",
   "metadata": {},
   "source": [
    "# Carrier Frequency Drift\n",
    "\n",
    "This notebook demonstates the functional of the carrier frequency drift transform. The transform models the carrier having a frequency which is represented by a Gaussian random variable whose mean is the average center frequency and whose variance is parameterizable. It in effect simulates a type of frequency modulation such that frequency on average is correct but varies over time based on the randomess created from the Gaussian random variable. It simulates the error and uncertainty of the real-world parameter due to manufacturing tolerance, temperature variation and other factors."
   ]
  },
  {
   "cell_type": "code",
   "execution_count": null,
   "id": "83bdc715",
   "metadata": {},
   "outputs": [],
   "source": [
    "import torchsig.transforms.functional as F\n",
    "\n",
    "import numpy as np\n",
    "import scipy as sp\n",
    "%matplotlib inline\n",
    "import matplotlib.pyplot as plt"
   ]
  },
  {
   "cell_type": "markdown",
   "id": "412f7598-c06e-42aa-bc26-1f26abfb4043",
   "metadata": {},
   "source": [
    "A tone signal is generated to test the carrier frequency drift transform. The error is defined in parts-per-million (PPM). A larger PPM represents a larger frequency error on average. Using 0 PPM will result in no center frequency drift and a pure carrier tone."
   ]
  },
  {
   "cell_type": "code",
   "execution_count": null,
   "id": "6afa7e07",
   "metadata": {},
   "outputs": [],
   "source": [
    "# test functional\n",
    "rng = np.random.default_rng(42)\n",
    "\n",
    "N = 10000\n",
    "sample_rate = 10e6\n",
    "#center_frequency = 0\n",
    "center_frequency = sample_rate/N\n",
    "n = np.arange(0,N)\n",
    "t = n/sample_rate\n",
    "tone_bb_data = np.exp(2j*np.pi*center_frequency*t)\n",
    "\n",
    "drift_ppm=10\n",
    "\n",
    "data_out = F.carrier_frequency_drift(\n",
    "    data = tone_bb_data,\n",
    "    drift_ppm = drift_ppm,\n",
    "    rng = rng\n",
    ")"
   ]
  },
  {
   "cell_type": "markdown",
   "id": "880ea4dd",
   "metadata": {},
   "source": [
    "Time-domain plots show how the frequency drift effects the complex sinusoid input. For small PPM errors the effect will may not be visible in the time domain."
   ]
  },
  {
   "cell_type": "code",
   "execution_count": null,
   "id": "e3dc1a42",
   "metadata": {},
   "outputs": [],
   "source": [
    "fig = plt.figure(figsize=(10,6))\n",
    "fig.subplots_adjust(hspace=0.5)\n",
    "ax = fig.add_subplot(2,1,1)\n",
    "ax.plot(t,np.real(tone_bb_data),label='Real, Input Tone')\n",
    "ax.plot(t,np.imag(tone_bb_data),label='Imag, Input Tone')\n",
    "ylim = np.max(np.abs(tone_bb_data))*1.1\n",
    "ax.set_ylim([-ylim,ylim])\n",
    "ax.set_xlim([t[0],t[-1]])\n",
    "ax.set_xlabel('Time (s)')\n",
    "ax.set_ylabel('Amplitude')\n",
    "ax.grid()\n",
    "ax.legend(loc='upper right')\n",
    "\n",
    "ax = fig.add_subplot(2,1,2)\n",
    "ax.plot(t,np.real(data_out),label='Real, Tone with Freq Drift')\n",
    "ax.plot(t,np.imag(data_out),label='Imag, Tone with Freq Drift')\n",
    "ax.set_ylim([-ylim,ylim])\n",
    "ax.set_xlim([t[0],t[-1]])\n",
    "ax.set_xlabel('Time (s)')\n",
    "ax.set_ylabel('Amplitude')\n",
    "ax.grid()\n",
    "ax.legend(loc='upper right')"
   ]
  },
  {
   "cell_type": "markdown",
   "id": "2c01adb2-e4a1-4066-baa8-72b9726ee8bb",
   "metadata": {},
   "source": [
    "The frequency drift effect is more noticable in the frequency domain. The input tone is plotted against the tone with frequency drift error. The variance of the frequency parameter acts as a type of frequency modulation, thereby increasing the bandwidth of the tone. Larger PPM errors will increase the amount of frequency modulation. This effect is seen in the frequency domain by the increase in bandwidth and the raising of sidelobes beyond the unmodulated, input carrrier."
   ]
  },
  {
   "cell_type": "code",
   "execution_count": null,
   "id": "7b66810d",
   "metadata": {},
   "outputs": [],
   "source": [
    "win = sp.signal.windows.blackmanharris(len(tone_bb_data))\n",
    "fft_size = 2**20\n",
    "f = np.linspace(-0.5,0.5-(1/fft_size),fft_size)*sample_rate\n",
    "fig = plt.figure(figsize=(12,8))\n",
    "ax = fig.add_subplot(1,1,1)\n",
    "ax.plot(f,20*np.log10(np.abs(np.fft.fftshift(np.fft.fft(tone_bb_data*win,fft_size)))),label='Input Tone')\n",
    "ax.plot(f,20*np.log10(np.abs(np.fft.fftshift(np.fft.fft(data_out*win,fft_size)))),'--',label='Output Tone with Freq Drift')\n",
    "ax.legend(loc='upper right')\n",
    "ax.set_xlim([-100000+center_frequency,100000+center_frequency])\n",
    "ax.grid()\n",
    "ax.set_ylabel('Magnitude (dB)')\n",
    "ax.set_xlabel('Frequency (Hz)')\n"
   ]
  },
  {
   "cell_type": "code",
   "execution_count": null,
   "id": "990f5828",
   "metadata": {},
   "outputs": [],
   "source": []
  },
  {
   "cell_type": "markdown",
   "id": "4f5c703c",
   "metadata": {},
   "source": [
    "The instantaneous frequency and phase are calculated from the impaired signal. The time domain plot shows how the frequency varies over time on a sample-by-sample basis. The phase also varies over time although it is more difficult to see in the plot."
   ]
  },
  {
   "cell_type": "code",
   "execution_count": null,
   "id": "8fbd16b7",
   "metadata": {},
   "outputs": [],
   "source": [
    "phase = np.unwrap(np.angle(data_out))*(sample_rate/(2*np.pi))\n",
    "frequency = np.diff(phase)-center_frequency\n",
    "\n",
    "fig = plt.figure(figsize=(10,6))\n",
    "fig.subplots_adjust(hspace=0.5)\n",
    "ax = fig.add_subplot(2,1,1)\n",
    "ax.plot(t[0:-1],frequency)\n",
    "ax.set_title('Instantaneous Frequency of Signal with LO Freq Drift')\n",
    "ax.set_xlabel('Time (s)')\n",
    "ax.set_ylabel('Frequency (Hz)')\n",
    "ax.grid()\n",
    "\n",
    "ax = fig.add_subplot(2,1,2)\n",
    "ax.plot(t[0:1000],phase[0:1000])\n",
    "ax.set_title('Instantaneous Phase of Signal with LO Freq Drift')\n",
    "ax.set_xlabel('Time (s)')\n",
    "ax.set_ylabel('Frequency (Hz)')\n",
    "ax.grid()\n"
   ]
  },
  {
   "cell_type": "code",
   "execution_count": null,
   "id": "65f03cf5",
   "metadata": {},
   "outputs": [],
   "source": [
    "from torchsig.signals.signal_types import Signal\n",
    "from torchsig.signals.builders import constellation_maps\n",
    "\n",
    "def generate_qpsk_symbols(num_iq_samples: int = 128) -> np.ndarray:\n",
    "\n",
    "    symbol_map = constellation_maps.all_symbol_maps['qpsk']\n",
    "    symbol_index = np.random.randint(0,len(symbol_map),num_iq_samples)\n",
    "    symbols = symbol_map[symbol_index]\n",
    "\n",
    "    return symbols"
   ]
  },
  {
   "cell_type": "markdown",
   "id": "d2365671",
   "metadata": {},
   "source": [
    "An IQ plot demonstrates how the effect of the carrier frequency drift smears the constellation of a QPSK signal. A larger PPM is used in this example in order to visually demonstrate the effect. The randomness of the carrier's frequency results in a phase offset that varies on a sample-by-sample basis."
   ]
  },
  {
   "cell_type": "code",
   "execution_count": null,
   "id": "b14b1ec7",
   "metadata": {},
   "outputs": [],
   "source": [
    "# test data\n",
    "N = 1024\n",
    "qpsk_data = generate_qpsk_symbols(num_iq_samples = N)\n",
    "\n",
    "# phase noise\n",
    "impaired_qpsk_data = F.carrier_frequency_drift(\n",
    "    data = qpsk_data,\n",
    "    drift_ppm=100\n",
    ")\n",
    "\n",
    "fig = plt.figure(figsize=(6,6))\n",
    "ax = fig.add_subplot(1,1,1)\n",
    "ax.set_box_aspect(1)\n",
    "ax.plot(np.real(impaired_qpsk_data),np.imag(impaired_qpsk_data),'x',label='With Frequency Drift')\n",
    "ax.plot(np.real(qpsk_data),np.imag(qpsk_data),'o',alpha=0.5,label='Input')\n",
    "ax.grid()\n",
    "ax.set_title('Constellation Plot')\n",
    "ax.set_xlabel('Real')\n",
    "ax.set_ylabel('Imag')\n",
    "ax.legend(fontsize='large', loc='center');"
   ]
  }
 ],
 "metadata": {
  "kernelspec": {
   "display_name": "Python 3",
   "language": "python",
   "name": "python3"
  },
  "language_info": {
   "codemirror_mode": {
    "name": "ipython",
    "version": 3
   },
   "file_extension": ".py",
   "mimetype": "text/x-python",
   "name": "python",
   "nbconvert_exporter": "python",
   "pygments_lexer": "ipython3",
   "version": "3.10.12"
  }
 },
 "nbformat": 4,
 "nbformat_minor": 5
}
