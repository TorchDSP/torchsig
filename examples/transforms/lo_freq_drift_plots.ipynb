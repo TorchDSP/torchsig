{
 "cells": [
  {
   "cell_type": "markdown",
   "id": "71d06404-6c20-40be-a8b7-9788df6ec9d5",
   "metadata": {},
   "source": [
    "# Plots of LO frequency drift transforms\n",
    "Refer to:\n"
   ]
  },
  {
   "cell_type": "code",
   "execution_count": null,
   "id": "412f7598-c06e-42aa-bc26-1f26abfb4043",
   "metadata": {},
   "outputs": [],
   "source": [
    "import torchsig.transforms.functional as F\n",
    "\n",
    "import numpy as np\n",
    "import scipy as sp\n",
    "%matplotlib inline\n",
    "import matplotlib.pyplot as plt"
   ]
  },
  {
   "cell_type": "code",
   "execution_count": null,
   "id": "2c01adb2-e4a1-4066-baa8-72b9726ee8bb",
   "metadata": {},
   "outputs": [],
   "source": [
    "# test functional\n",
    "rng = np.random.default_rng(42)\n",
    "\n",
    "N = 10000\n",
    "center_frequency = 0\n",
    "sample_rate = 10e6\n",
    "n = np.arange(0,N)\n",
    "t = n/sample_rate\n",
    "tone_bb_data = np.exp(2j*np.pi*center_frequency*t)\n",
    "\n",
    "drift_std=100\n",
    "data_out = F.local_oscillator_frequency_drift(\n",
    "    data = tone_bb_data,\n",
    "    drift_std = drift_std,\n",
    "    sample_rate=sample_rate,\n",
    "    rng = rng\n",
    ")"
   ]
  },
  {
   "cell_type": "code",
   "execution_count": null,
   "id": "7d0e128a-210d-4027-bfdf-d0dd38ad6599",
   "metadata": {},
   "outputs": [],
   "source": [
    "fig = plt.figure(figsize=(10,6))\n",
    "fig.subplots_adjust(hspace=0.5)\n",
    "ax = fig.add_subplot(2,1,1)\n",
    "ax.plot(t,np.real(tone_bb_data),label='Real, Input Tone')\n",
    "ax.plot(t,np.imag(tone_bb_data),label='Imag, Input Tone')\n",
    "ylim = np.max(np.abs(tone_bb_data))*1.1\n",
    "ax.set_ylim([-ylim,ylim])\n",
    "ax.set_xlim([t[0],t[-1]])\n",
    "ax.set_xlabel('Time (s)')\n",
    "ax.set_ylabel('Amplitude')\n",
    "ax.grid()\n",
    "ax.legend(loc='upper right')\n",
    "\n",
    "ax = fig.add_subplot(2,1,2)\n",
    "ax.plot(t,np.real(data_out),label='Real, Tone with LO Drift')\n",
    "ax.plot(t,np.imag(data_out),label='Imag, Tone with LO Drift')\n",
    "ax.set_ylim([-ylim,ylim])\n",
    "ax.set_xlim([t[0],t[-1]])\n",
    "ax.set_xlabel('Time (s)')\n",
    "ax.set_ylabel('Amplitude')\n",
    "ax.grid()\n",
    "ax.legend(loc='upper right')"
   ]
  },
  {
   "cell_type": "code",
   "execution_count": null,
   "id": "7b66810d",
   "metadata": {},
   "outputs": [],
   "source": [
    "win = sp.signal.windows.blackmanharris(len(tone_bb_data))\n",
    "fft_size = 2**20\n",
    "f = np.linspace(-0.5,0.5-(1/fft_size),fft_size)*sample_rate\n",
    "fig = plt.figure(figsize=(12,8))\n",
    "ax = fig.add_subplot(1,1,1)\n",
    "ax.plot(f,20*np.log10(np.abs(np.fft.fftshift(np.fft.fft(tone_bb_data*win,fft_size)))),label='Input Tone')\n",
    "ax.plot(f,20*np.log10(np.abs(np.fft.fftshift(np.fft.fft(data_out*win,fft_size)))),'--',label='Output Tone with LO Drift')\n",
    "ax.legend(loc='upper right')\n",
    "ax.set_xlim([-100000+center_frequency,100000+center_frequency])\n",
    "ax.grid()\n",
    "ax.set_ylabel('Magnitude (dB)')\n",
    "ax.set_xlabel('Frequency (Hz)')\n"
   ]
  },
  {
   "cell_type": "code",
   "execution_count": null,
   "id": "8fbd16b7",
   "metadata": {},
   "outputs": [],
   "source": [
    "fig = plt.figure(figsize=(10,6))\n",
    "ax = fig.add_subplot(1,1,1)\n",
    "unwrapped_phase = np.unwrap(np.angle(data_out))*(sample_rate/(2*np.pi))\n",
    "instantaneous_frequency = np.diff(unwrapped_phase)\n",
    "ax.plot(t[0:1000],instantaneous_frequency[0:1000])\n",
    "ax.plot(t[0:1000],drift_std*np.ones(1000),'r',label='Drift Standard Deviation')\n",
    "ax.plot(t[0:1000],-drift_std*np.ones(1000),'r')\n",
    "ax.set_title('Instantaneous Frequency of Signal with LO Drift')\n",
    "ax.set_xlabel('Time (s)')\n",
    "ax.set_ylabel('Frequency (Hz)')\n",
    "ax.grid()\n",
    "ax.legend(loc='upper right')\n"
   ]
  }
 ],
 "metadata": {
  "kernelspec": {
   "display_name": "Python 3",
   "language": "python",
   "name": "python3"
  },
  "language_info": {
   "codemirror_mode": {
    "name": "ipython",
    "version": 3
   },
   "file_extension": ".py",
   "mimetype": "text/x-python",
   "name": "python",
   "nbconvert_exporter": "python",
   "pygments_lexer": "ipython3",
   "version": "3.10.12"
  }
 },
 "nbformat": 4,
 "nbformat_minor": 5
}
