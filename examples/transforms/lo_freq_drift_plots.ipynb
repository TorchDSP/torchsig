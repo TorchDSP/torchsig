{
 "cells": [
  {
   "cell_type": "markdown",
   "id": "71d06404-6c20-40be-a8b7-9788df6ec9d5",
   "metadata": {},
   "source": [
    "# Local Oscillator Frequency Drift\n"
   ]
  },
  {
   "cell_type": "code",
   "execution_count": 1,
   "id": "83bdc715",
   "metadata": {},
   "outputs": [],
   "source": [
    "import torchsig.transforms.functional as F\n",
    "\n",
    "import numpy as np\n",
    "import scipy as sp\n",
    "%matplotlib inline\n",
    "import matplotlib.pyplot as plt"
   ]
  },
  {
   "cell_type": "markdown",
   "id": "412f7598-c06e-42aa-bc26-1f26abfb4043",
   "metadata": {},
   "source": [
    "Generates a tone-based test signal and applies the LO frequency drift impairment."
   ]
  },
  {
   "cell_type": "code",
   "execution_count": 2,
   "id": "6afa7e07",
   "metadata": {},
   "outputs": [
    {
     "ename": "TypeError",
     "evalue": "local_oscillator_frequency_drift() got an unexpected keyword argument 'drift_std'",
     "output_type": "error",
     "traceback": [
      "\u001b[0;31m---------------------------------------------------------------------------\u001b[0m",
      "\u001b[0;31mTypeError\u001b[0m                                 Traceback (most recent call last)",
      "Cell \u001b[0;32mIn[2], line 13\u001b[0m\n\u001b[1;32m     10\u001b[0m tone_bb_data \u001b[38;5;241m=\u001b[39m np\u001b[38;5;241m.\u001b[39mexp(\u001b[38;5;241m2\u001b[39mj\u001b[38;5;241m*\u001b[39mnp\u001b[38;5;241m.\u001b[39mpi\u001b[38;5;241m*\u001b[39mcenter_frequency\u001b[38;5;241m*\u001b[39mt)\n\u001b[1;32m     12\u001b[0m drift_std\u001b[38;5;241m=\u001b[39m\u001b[38;5;241m100\u001b[39m\n\u001b[0;32m---> 13\u001b[0m data_out \u001b[38;5;241m=\u001b[39m \u001b[43mF\u001b[49m\u001b[38;5;241;43m.\u001b[39;49m\u001b[43mlocal_oscillator_frequency_drift\u001b[49m\u001b[43m(\u001b[49m\n\u001b[1;32m     14\u001b[0m \u001b[43m    \u001b[49m\u001b[43mdata\u001b[49m\u001b[43m \u001b[49m\u001b[38;5;241;43m=\u001b[39;49m\u001b[43m \u001b[49m\u001b[43mtone_bb_data\u001b[49m\u001b[43m,\u001b[49m\n\u001b[1;32m     15\u001b[0m \u001b[43m    \u001b[49m\u001b[43mdrift_std\u001b[49m\u001b[43m \u001b[49m\u001b[38;5;241;43m=\u001b[39;49m\u001b[43m \u001b[49m\u001b[43mdrift_std\u001b[49m\u001b[43m,\u001b[49m\n\u001b[1;32m     16\u001b[0m \u001b[43m    \u001b[49m\u001b[43msample_rate\u001b[49m\u001b[38;5;241;43m=\u001b[39;49m\u001b[43msample_rate\u001b[49m\u001b[43m,\u001b[49m\n\u001b[1;32m     17\u001b[0m \u001b[43m    \u001b[49m\u001b[43mrng\u001b[49m\u001b[43m \u001b[49m\u001b[38;5;241;43m=\u001b[39;49m\u001b[43m \u001b[49m\u001b[43mrng\u001b[49m\n\u001b[1;32m     18\u001b[0m \u001b[43m)\u001b[49m\n",
      "\u001b[0;31mTypeError\u001b[0m: local_oscillator_frequency_drift() got an unexpected keyword argument 'drift_std'"
     ]
    }
   ],
   "source": [
    "# test functional\n",
    "rng = np.random.default_rng(42)\n",
    "\n",
    "N = 10000\n",
    "sample_rate = 10e6\n",
    "#center_frequency = 0\n",
    "center_frequency = sample_rate/N\n",
    "n = np.arange(0,N)\n",
    "t = n/sample_rate\n",
    "tone_bb_data = np.exp(2j*np.pi*center_frequency*t)\n",
    "\n",
    "drift_ppm=10\n",
    "\n",
    "data_out = F.local_oscillator_frequency_drift(\n",
    "    data = tone_bb_data,\n",
    "    drift_ppm = drift_ppm,\n",
    "    rng = rng\n",
    ")"
   ]
  },
  {
   "cell_type": "markdown",
   "id": "880ea4dd",
   "metadata": {},
   "source": [
    "Time-domain plots show how the frequency drift effects the complex sinusoid input."
   ]
  },
  {
   "cell_type": "code",
   "execution_count": null,
   "id": "e3dc1a42",
   "metadata": {},
   "outputs": [],
   "source": [
    "fig = plt.figure(figsize=(10,6))\n",
    "fig.subplots_adjust(hspace=0.5)\n",
    "ax = fig.add_subplot(2,1,1)\n",
    "ax.plot(t,np.real(tone_bb_data),label='Real, Input Tone')\n",
    "ax.plot(t,np.imag(tone_bb_data),label='Imag, Input Tone')\n",
    "ylim = np.max(np.abs(tone_bb_data))*1.1\n",
    "ax.set_ylim([-ylim,ylim])\n",
    "ax.set_xlim([t[0],t[-1]])\n",
    "ax.set_xlabel('Time (s)')\n",
    "ax.set_ylabel('Amplitude')\n",
    "ax.grid()\n",
    "ax.legend(loc='upper right')\n",
    "\n",
    "ax = fig.add_subplot(2,1,2)\n",
    "ax.plot(t,np.real(data_out),label='Real, Tone with Freq Drift')\n",
    "ax.plot(t,np.imag(data_out),label='Imag, Tone with Freq Drift')\n",
    "ax.set_ylim([-ylim,ylim])\n",
    "ax.set_xlim([t[0],t[-1]])\n",
    "ax.set_xlabel('Time (s)')\n",
    "ax.set_ylabel('Amplitude')\n",
    "ax.grid()\n",
    "ax.legend(loc='upper right')"
   ]
  },
  {
   "cell_type": "markdown",
   "id": "2c01adb2-e4a1-4066-baa8-72b9726ee8bb",
   "metadata": {},
   "source": [
    "Plots the frequency domain response, demonstrating the frequency drift effect."
   ]
  },
  {
   "cell_type": "code",
   "execution_count": null,
   "id": "7b66810d",
   "metadata": {},
   "outputs": [],
   "source": [
    "win = sp.signal.windows.blackmanharris(len(tone_bb_data))\n",
    "fft_size = 2**20\n",
    "f = np.linspace(-0.5,0.5-(1/fft_size),fft_size)*sample_rate\n",
    "fig = plt.figure(figsize=(12,8))\n",
    "ax = fig.add_subplot(1,1,1)\n",
    "ax.plot(f,20*np.log10(np.abs(np.fft.fftshift(np.fft.fft(tone_bb_data*win,fft_size)))),label='Input Tone')\n",
    "ax.plot(f,20*np.log10(np.abs(np.fft.fftshift(np.fft.fft(data_out*win,fft_size)))),'--',label='Output Tone with Freq Drift')\n",
    "ax.legend(loc='upper right')\n",
    "ax.set_xlim([-100000+center_frequency,100000+center_frequency])\n",
    "ax.grid()\n",
    "ax.set_ylabel('Magnitude (dB)')\n",
    "ax.set_xlabel('Frequency (Hz)')\n"
   ]
  },
  {
   "cell_type": "markdown",
   "id": "4f5c703c",
   "metadata": {},
   "source": [
    "Plots the instantaneous phase of the output, showing the frequency drift effect."
   ]
  },
  {
   "cell_type": "code",
   "execution_count": null,
   "id": "8fbd16b7",
   "metadata": {},
   "outputs": [],
   "source": [
    "frequency = np.unwrap(np.angle(data_out))*(sample_rate/(2*np.pi))\n",
    "phase = np.diff(frequency)-center_frequency\n",
    "\n",
    "fig = plt.figure(figsize=(10,6))\n",
    "fig.subplots_adjust(hspace=0.5)\n",
    "ax = fig.add_subplot(2,1,1)\n",
    "ax.plot(t,frequency)\n",
    "ax.set_title('Instantaneous Frequency of Signal with LO Freq Drift')\n",
    "ax.set_xlabel('Time (s)')\n",
    "ax.set_ylabel('Frequency (Hz)')\n",
    "ax.grid()\n",
    "\n",
    "ax = fig.add_subplot(2,1,2)\n",
    "ax.plot(t[0:1000],phase[0:1000])\n",
    "ax.set_title('Instantaneous Phase of Signal with LO Freq Drift')\n",
    "ax.set_xlabel('Time (s)')\n",
    "ax.set_ylabel('Frequency (Hz)')\n",
    "ax.grid()\n"
   ]
  }
 ],
 "metadata": {
  "kernelspec": {
   "display_name": "venv",
   "language": "python",
   "name": "python3"
  },
  "language_info": {
   "codemirror_mode": {
    "name": "ipython",
    "version": 3
   },
   "file_extension": ".py",
   "mimetype": "text/x-python",
   "name": "python",
   "nbconvert_exporter": "python",
   "pygments_lexer": "ipython3",
   "version": "3.12.3"
  }
 },
 "nbformat": 4,
 "nbformat_minor": 5
}
