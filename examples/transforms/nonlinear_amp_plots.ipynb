{
 "cells": [
  {
   "cell_type": "code",
   "execution_count": null,
   "id": "412f7598-c06e-42aa-bc26-1f26abfb4043",
   "metadata": {},
   "outputs": [],
   "source": [
    "from torchsig.signals.signal_types import Signal\n",
    "from torchsig.datasets.dataset_metadata import DatasetMetadata\n",
    "from torchsig.signals.builders.constellation import ConstellationSignalBuilder\n",
    "from torchsig.signals.builders.tone import ToneSignalBuilder\n",
    "import torchsig.transforms.functional as F\n",
    "from torchsig.utils.dsp import (\n",
    "    torchsig_complex_data_type,\n",
    "    frequency_shift,\n",
    "    multistage_polyphase_resampler\n",
    ")\n",
    "\n",
    "import numpy as np\n",
    "from copy import deepcopy\n",
    "%matplotlib inline\n",
    "import matplotlib.pyplot as plt"
   ]
  },
  {
   "cell_type": "code",
   "execution_count": null,
   "id": "15862676-23d1-46ac-9463-faf16936d4b2",
   "metadata": {},
   "outputs": [],
   "source": [
    "pin = np.linspace(0,10,num=10000)\n",
    "\n",
    "mean_power_est = 1.0\n",
    "psat_backoff = 1.0\n",
    "gain = [0.5, 1.0, 2.0, 4.0, 8.0]\n",
    "\n",
    "# plot pin/pout\n",
    "fig = plt.figure(figsize=(8, 8))\n",
    "for i,g in enumerate(gain):\n",
    "    psat = mean_power_est * psat_backoff\n",
    "    scale_factor = psat / g\n",
    "    pout = psat * np.tanh(pin / scale_factor)\n",
    "    \n",
    "    pin_log10 = 10*np.log10(np.where(pin == 0, float('inf'), pin))\n",
    "    pout_log10 = 10*np.log10(np.where(pout == 0, float('inf'), pout))\n",
    "    plt.plot(pin_log10, pout_log10)\n",
    "    \n",
    "plt.title('Nonlinear Amplifier Model AM/AM across Gains ($P_{sat}$: 0 dBW)',fontsize='large');\n",
    "plt.xlabel('Pin (dBW)',fontsize='large');\n",
    "plt.ylabel('Pout (dBW)',fontsize='large');\n",
    "plt.legend(np.round(10*np.log10(gain),decimals=1), loc='lower right', fontsize='large');\n",
    "plt.show()\n",
    "\n",
    "# plot pin/phase_out\n",
    "phislope = [0.05, 0.1, 0.15, 0.2, -0.05, -0.1, -0.15, -0.2]\n",
    "phi_origin = 0.5 # fix new y-axis origin at 0.5 (-3 dB)\n",
    "phimax = 0.1\n",
    "\n",
    "fig = plt.figure(figsize=(8, 8))\n",
    "for i,p in enumerate(phislope):\n",
    "    pin_origin = np.arctanh(phi_origin) # fix new x-axis from template tanh    \n",
    "    phi = (phimax/2) * (np.tanh( (pin - pin_origin) / p) + np.sign(p))\n",
    " \n",
    "    pin_log10 = 10*np.log10(np.where(pin == 0, float('inf'), pin))\n",
    "    plt.plot(pin_log10, phi)\n",
    "\n",
    "plt.title('Nonlinear Amplifier Model AM/PM across Slopes ($\\\\phi_{0}$, $\\\\phi_{max}$: (0.05, 0.1))',fontsize='large');\n",
    "plt.xlabel('Pin (dBW)',fontsize='large');\n",
    "plt.ylabel('$\\\\phi$ (rad)',fontsize='large');\n",
    "plt.legend(np.round(phislope,decimals=2), loc='upper left', fontsize='large');\n",
    "plt.show()"
   ]
  }
 ],
 "metadata": {
  "kernelspec": {
   "display_name": "Python 3",
   "language": "python",
   "name": "python3"
  },
  "language_info": {
   "codemirror_mode": {
    "name": "ipython",
    "version": 3
   },
   "file_extension": ".py",
   "mimetype": "text/x-python",
   "name": "python",
   "nbconvert_exporter": "python",
   "pygments_lexer": "ipython3",
   "version": "3.10.12"
  }
 },
 "nbformat": 4,
 "nbformat_minor": 5
}
