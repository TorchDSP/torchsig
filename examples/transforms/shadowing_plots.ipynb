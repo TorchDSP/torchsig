{
 "cells": [
  {
   "cell_type": "markdown",
   "id": "71d06404-6c20-40be-a8b7-9788df6ec9d5",
   "metadata": {},
   "source": [
    "# Shadowing Transform\n",
    "This notebook demonstrates the shadowing transform. Shadowing corresponds to real-world path blockages and channel effects that cause signal path losses to deviate significantly from unobstructed free-space path loss between transmitter and receiver. Though these effects vary greatly, they are commonly modeled as following a log-normal response (Refer to: https://www.gaussianwaves.com/2013/09/log-distance-path-loss-or-log-normal-shadowing-model/), as parameterized by the log-normal distribution mean and standard deviation."
   ]
  },
  {
   "cell_type": "code",
   "execution_count": null,
   "id": "412f7598-c06e-42aa-bc26-1f26abfb4043",
   "metadata": {},
   "outputs": [],
   "source": [
    "from torchsig.signals.signal_types import Signal\n",
    "from torchsig.datasets.dataset_metadata import DatasetMetadata\n",
    "from torchsig.signals.builders.tone import ToneSignalBuilder\n",
    "import torchsig.transforms.functional as F\n",
    "from torchsig.utils.dsp import (\n",
    "    TorchSigComplexDataType\n",
    ")\n",
    "\n",
    "import numpy as np\n",
    "from scipy import stats\n",
    "\n",
    "%matplotlib inline\n",
    "import matplotlib.pyplot as plt\n",
    "from scipy.signal import spectrogram"
   ]
  },
  {
   "cell_type": "markdown",
   "id": "fe632b2d-03c2-4bf7-bcf2-d2ba24049b47",
   "metadata": {},
   "source": [
    "Generator function for QPSK test signal."
   ]
  },
  {
   "cell_type": "code",
   "execution_count": null,
   "id": "817c9523-f8e9-4626-b8fd-b5333109484e",
   "metadata": {},
   "outputs": [],
   "source": [
    "def generate_tone_signal(num_iq_samples: int = 128, scale: float = 1.0) -> Signal:\n",
    "    \"\"\"Generate a scaled, high SNR baseband tone Signal.\n",
    "\n",
    "    Args:\n",
    "        num_iq_samples (int, optional): Length of sample. Defaults to 128.\n",
    "        scale (int, optional): Scale factor for normalized signal data. Defaults to 1.0.\n",
    "\n",
    "    Returns:\n",
    "        signal: generated Signal.\n",
    "\n",
    "    \"\"\"\n",
    "    rng = np.random.default_rng(42)\n",
    "    sample_rate = 10e6\n",
    "    \n",
    "    md = DatasetMetadata(\n",
    "        num_iq_samples_dataset = num_iq_samples,\n",
    "        fft_size = 4,\n",
    "        impairment_level = 0,\n",
    "        sample_rate = sample_rate,\n",
    "        num_signals_max = 1,\n",
    "        num_signals_min = 1,\n",
    "        num_signals_distribution = [1.0],\n",
    "        snr_db_min = 10.0,\n",
    "        snr_db_max = 10.0,\n",
    "        signal_duration_min = 1.00*num_iq_samples/sample_rate,\n",
    "        signal_duration_max = 1.00*num_iq_samples/sample_rate,\n",
    "        signal_bandwidth_min = sample_rate/4,\n",
    "        signal_bandwidth_max = sample_rate/4,\n",
    "        signal_center_freq_min = 0.0,\n",
    "        signal_center_freq_max = 0.0, \n",
    "        transforms = [],\n",
    "        target_transforms = [],\n",
    "        class_list = ['tone'],\n",
    "        class_distribution = [1.0],\n",
    "        num_samples = 1,\n",
    "        seed = 1234\n",
    "    )\n",
    "    builder = ToneSignalBuilder(\n",
    "        dataset_metadata = md, \n",
    "        class_name = 'tone',\n",
    "        seed = 1234\n",
    "    )\n",
    "    signal = builder.build()\n",
    "\n",
    "    # normalize, then scale data   \n",
    "    signal.data = F.normalize(\n",
    "        data = signal.data,\n",
    "        norm_order = 2,\n",
    "        flatten = False\n",
    "    )\n",
    "    signal.data = np.multiply(signal.data, scale).astype(TorchSigComplexDataType)\n",
    "\n",
    "    return signal"
   ]
  },
  {
   "cell_type": "markdown",
   "id": "377ad0e1-0396-409c-a025-a078b771533f",
   "metadata": {},
   "source": [
    "Generate test input data."
   ]
  },
  {
   "cell_type": "code",
   "execution_count": null,
   "id": "012125fe-7f1a-4a1a-a186-f190e0d76b63",
   "metadata": {},
   "outputs": [],
   "source": [
    "rng = np.random.default_rng(42)\n",
    "\n",
    "# signal parameters\n",
    "N = 10000\n",
    "sampling_rate = 4.0\n",
    "fc = 0.2 # center frequency\n",
    "\n",
    "# generate, frequency shift, and power scale the input tone signal\n",
    "tone_bb_data = generate_tone_signal(num_iq_samples = N, scale = 1.0).data \n",
    "tone_data = tone_bb_data * np.exp(2j * np.pi * fc * np.arange(N) / sampling_rate)\n",
    "tone_power = np.mean(np.abs(tone_data) ** 2)"
   ]
  },
  {
   "cell_type": "markdown",
   "id": "6c1cdeec-ce9b-4d29-bcba-2d1ce175454b",
   "metadata": {},
   "source": [
    "Test log-normal shadowing power distribution with multiple transform calls."
   ]
  },
  {
   "cell_type": "code",
   "execution_count": null,
   "id": "33d4642b-6663-4d24-b393-a948b0e35505",
   "metadata": {},
   "outputs": [],
   "source": [
    "# functional check\n",
    "n_iterations = 1000\n",
    "results = [\n",
    "    10*np.log10(np.mean(np.abs(\n",
    "        F.shadowing(\n",
    "            data = tone_bb_data,\n",
    "            mean_db = 4.0,\n",
    "            sigma_db = 2.0,\n",
    "            rng = rng\n",
    "        )**2)\n",
    "    ))\n",
    "    for _ in  range(n_iterations)\n",
    "]\n",
    "results_array = np.array(results)\n",
    "\n",
    "# Shapiro-Wilk test for normality\n",
    "stat, p_value = stats.shapiro(results_array)\n",
    "\n",
    "print(f\"Shapiro-Wilk test statistic: {stat:.3f}, p-value: {p_value:.3f}\")\n",
    "if p_value > 0.05:\n",
    "    print(\"The distribution is likely normal\")\n",
    "else:\n",
    "    print(\"The distribution is likely not normal\")"
   ]
  },
  {
   "cell_type": "markdown",
   "id": "921aabc8-a606-4f67-b614-5e373cea1812",
   "metadata": {},
   "source": [
    "Plot output power distribution histogram."
   ]
  },
  {
   "cell_type": "code",
   "execution_count": null,
   "id": "f22b941e-96e1-4d92-96f8-c36132bfd284",
   "metadata": {},
   "outputs": [],
   "source": [
    "fig = plt.figure(figsize=(6,6))\n",
    "plt.hist(results_array);\n",
    "plt.title('Shadowing: Power Distribution');\n",
    "plt.xlabel('Mean Signal Power [dB]');\n",
    "plt.ylabel('Frequency');"
   ]
  }
 ],
 "metadata": {
  "kernelspec": {
   "display_name": "Python 3 (ipykernel)",
   "language": "python",
   "name": "python3"
  },
  "language_info": {
   "codemirror_mode": {
    "name": "ipython",
    "version": 3
   },
   "file_extension": ".py",
   "mimetype": "text/x-python",
   "name": "python",
   "nbconvert_exporter": "python",
   "pygments_lexer": "ipython3",
   "version": "3.10.12"
  }
 },
 "nbformat": 4,
 "nbformat_minor": 5
}
