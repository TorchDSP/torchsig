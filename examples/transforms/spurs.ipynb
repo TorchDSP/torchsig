{
 "cells": [
  {
   "cell_type": "markdown",
   "id": "93dc34b3-ef15-430e-8598-edab37acab03",
   "metadata": {},
   "source": [
    "# Spurs Transform\n",
    "Spurs, short for spurious signals, are undesired signal components within the band of interest. They are produced by many real world sources such as power circuitry, clocks and oscillator harmonics, and many other electronics. The TorchSig spur functional transform enables placement of narrowband spurs within the band at any frequency and relative power level. "
   ]
  },
  {
   "cell_type": "code",
   "execution_count": null,
   "id": "412f7598-c06e-42aa-bc26-1f26abfb4043",
   "metadata": {},
   "outputs": [],
   "source": [
    "import torchsig.transforms.functional as F\n",
    "\n",
    "import numpy as np\n",
    "%matplotlib inline\n",
    "import matplotlib.pyplot as plt"
   ]
  },
  {
   "cell_type": "markdown",
   "id": "0ce120cb-478d-4557-9a4b-16d8441dd7a8",
   "metadata": {},
   "source": [
    "Generate white gaussian noise as the input test signal. Add spurs at 1, 2, and 3 MHz with +10, +15, and +20 dB power relative to the noise floor."
   ]
  },
  {
   "cell_type": "code",
   "execution_count": null,
   "id": "50a617f8-356f-4b7d-8f83-fc51f9508b3d",
   "metadata": {},
   "outputs": [],
   "source": [
    "N = 1024\n",
    "sample_rate = 10e6\n",
    "\n",
    "# generate white gaussian noise\n",
    "noise = np.sqrt(1e-6)*(np.random.normal(0,1,N) + 1j*np.random.normal(0,1,N))\n",
    "\n",
    "# simulate quantization at full scale\n",
    "noise_with_spurs = F.spurs(\n",
    "    data = noise,\n",
    "    center_freqs = [1e6, 2e6, 3e6],\n",
    "    relative_power_db = [10, 15, 20],\n",
    "    sample_rate = sample_rate\n",
    ")"
   ]
  },
  {
   "cell_type": "markdown",
   "id": "4cc21517-bc5c-45fb-9478-91783352afac",
   "metadata": {},
   "source": [
    "Plot the combined noise and spurs."
   ]
  },
  {
   "cell_type": "code",
   "execution_count": null,
   "id": "a1ad7765-f78d-4740-aad8-f9d99a4b9709",
   "metadata": {},
   "outputs": [],
   "source": [
    "fig = plt.figure(figsize=(12,6))\n",
    "fig.subplots_adjust(hspace=0.5)\n",
    "ax = fig.add_subplot(1,1,1)\n",
    "f = np.linspace(-0.5,0.5-(1/N),N)*sample_rate\n",
    "ax.plot(f,20*np.log10(np.abs(np.fft.fftshift(np.fft.fft(noise_with_spurs)))))\n",
    "ax.set_xlim([f[0],f[-1]])\n",
    "ax.grid()\n",
    "ax.set_title(f'AWGN with Added Spurs')\n",
    "ax.set_xlabel('Frequency',fontsize='large')\n",
    "ax.set_ylabel('Magnitude (dB)',fontsize='large')"
   ]
  }
 ],
 "metadata": {
  "kernelspec": {
   "display_name": "Python 3 (ipykernel)",
   "language": "python",
   "name": "python3"
  },
  "language_info": {
   "codemirror_mode": {
    "name": "ipython",
    "version": 3
   },
   "file_extension": ".py",
   "mimetype": "text/x-python",
   "name": "python",
   "nbconvert_exporter": "python",
   "pygments_lexer": "ipython3",
   "version": "3.10.12"
  }
 },
 "nbformat": 4,
 "nbformat_minor": 5
}
