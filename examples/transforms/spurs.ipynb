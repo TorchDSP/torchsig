{
 "cells": [
  {
   "cell_type": "code",
   "execution_count": null,
   "id": "412f7598-c06e-42aa-bc26-1f26abfb4043",
   "metadata": {},
   "outputs": [],
   "source": [
    "import torchsig.transforms.functional as F\n",
    "\n",
    "import numpy as np\n",
    "%matplotlib inline\n",
    "import matplotlib.pyplot as plt"
   ]
  },
  {
   "cell_type": "code",
   "execution_count": null,
   "id": "50a617f8-356f-4b7d-8f83-fc51f9508b3d",
   "metadata": {},
   "outputs": [],
   "source": [
    "# generate noise\n",
    "N = 1024\n",
    "noise = np.sqrt(1e-6)*(np.random.normal(0,1,N) + 1j*np.random.normal(0,1,N))\n",
    "\n",
    "sample_rate = 10e6\n",
    "\n",
    "# simulate quantization at full scale\n",
    "noise_with_spurs = F.spurs(\n",
    "    data = noise,\n",
    "    center_freqs = [1e6, 2e6, 3e6],\n",
    "    relative_power_db = [10, 15, 20],\n",
    "    sample_rate = sample_rate\n",
    ")\n",
    "\n",
    "fig = plt.figure(figsize=(12,6))\n",
    "fig.subplots_adjust(hspace=0.5)\n",
    "ax = fig.add_subplot(1,1,1)\n",
    "f = np.linspace(-0.5,0.5-(1/N),N)*sample_rate\n",
    "ax.plot(f,20*np.log10(np.abs(np.fft.fftshift(np.fft.fft(noise_with_spurs)))))\n",
    "ax.set_xlim([f[0],f[-1]])\n",
    "ax.grid()\n",
    "ax.set_title(f'AWGN with Added Spurs')\n",
    "ax.set_xlabel('Frequency',fontsize='large')\n",
    "ax.set_ylabel('Magnitude (dB)',fontsize='large')\n",
    "\n",
    "plt.show()\n"
   ]
  }
 ],
 "metadata": {
  "kernelspec": {
   "display_name": "Python 3",
   "language": "python",
   "name": "python3"
  },
  "language_info": {
   "codemirror_mode": {
    "name": "ipython",
    "version": 3
   },
   "file_extension": ".py",
   "mimetype": "text/x-python",
   "name": "python",
   "nbconvert_exporter": "python",
   "pygments_lexer": "ipython3",
   "version": "3.10.12"
  }
 },
 "nbformat": 4,
 "nbformat_minor": 5
}
