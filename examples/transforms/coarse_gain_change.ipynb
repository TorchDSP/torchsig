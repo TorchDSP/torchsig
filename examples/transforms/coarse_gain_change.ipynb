{
 "cells": [
  {
   "cell_type": "markdown",
   "id": "12e58f1a",
   "metadata": {},
   "source": [
    "# Coarse Gain Change\n",
    "Coarse gain change is a instantaneous change in the amplitude level. It is intended to simulate an immediate change in transmit or receiver gain. Because TorchSig does not fully simulate receiver effects, reducing the gain will reduce the noise and the signal by the same factor; increasing the gain will increase the noise and the signal by the same factor as well."
   ]
  },
  {
   "cell_type": "code",
   "execution_count": null,
   "id": "412f7598-c06e-42aa-bc26-1f26abfb4043",
   "metadata": {},
   "outputs": [],
   "source": [
    "from torchsig.signals.signal_types import Signal\n",
    "from torchsig.datasets.dataset_metadata import DatasetMetadata\n",
    "from torchsig.signals.builders.constellation import ConstellationSignalBuilder\n",
    "import torchsig.transforms.functional as F\n",
    "\n",
    "import numpy as np\n",
    "%matplotlib inline\n",
    "import matplotlib.pyplot as plt"
   ]
  },
  {
   "cell_type": "markdown",
   "id": "e54e57ec",
   "metadata": {},
   "source": [
    "An example signal is created to test the gain change transform."
   ]
  },
  {
   "cell_type": "code",
   "execution_count": null,
   "id": "f5f0229d-db8b-49c4-b5f0-be139616202c",
   "metadata": {},
   "outputs": [],
   "source": [
    "def generate_qpsk_signal(num_iq_samples: int = 128, scale: float = 1.0) -> Signal:\n",
    "    \"\"\"Generate a scaled, high SNR baseband QPSK Signal.\n",
    "\n",
    "        Args:\n",
    "        num_iq_samples (int, optional): Length of sample. Defaults to 10.\n",
    "        scale (int, optional): scale normalized signal data. Defaults to 1.0.\n",
    "\n",
    "        Returns:\n",
    "            signal: generated Signal \n",
    "\n",
    "    \"\"\"\n",
    "    sample_rate = 10e6\n",
    "    md = DatasetMetadata(\n",
    "        num_iq_samples_dataset = num_iq_samples,\n",
    "        fft_size = 4,\n",
    "        impairment_level = 0,\n",
    "        sample_rate = sample_rate,\n",
    "        num_signals_max = 1,\n",
    "        num_signals_min = 1,\n",
    "        num_signals_distribution = [1.0],\n",
    "        snr_db_min = 100.0,\n",
    "        snr_db_max = 100.0,\n",
    "        signal_duration_min = 1.00*num_iq_samples/sample_rate,\n",
    "        signal_duration_max = 1.00*num_iq_samples/sample_rate,\n",
    "        signal_bandwidth_min = sample_rate/4,\n",
    "        signal_bandwidth_max = sample_rate/4,\n",
    "        signal_center_freq_min = 0.0,\n",
    "        signal_center_freq_max = 0.0,         \n",
    "        class_list = ['qpsk'],\n",
    "        class_distribution = [1.0],\n",
    "        seed = 42\n",
    "    )\n",
    "\n",
    "    builder = ConstellationSignalBuilder(\n",
    "        dataset_metadata = md, \n",
    "        class_name = 'qpsk',\n",
    "        seed = 42\n",
    "    )\n",
    "    signal = builder.build()\n",
    "\n",
    "    # normalize, then scale data   \n",
    "    signal.data = F.normalize(\n",
    "        data = signal.data,\n",
    "        norm_order = 2,\n",
    "        flatten = False\n",
    "    )\n",
    "    signal.data = np.multiply(signal.data, scale)\n",
    "\n",
    "    return signal"
   ]
  },
  {
   "cell_type": "markdown",
   "id": "14296246",
   "metadata": {},
   "source": [
    "Notice how the gain change applies an immediate increase in the gain to the QPSK signal."
   ]
  },
  {
   "cell_type": "code",
   "execution_count": null,
   "id": "50a617f8-356f-4b7d-8f83-fc51f9508b3d",
   "metadata": {},
   "outputs": [],
   "source": [
    "# test data\n",
    "N = 1024\n",
    "qpsk_data = generate_qpsk_signal(num_iq_samples = N, scale = 1.0).data\n",
    "\n",
    "# add in a tiny amount of noise to avoid log10(0)\n",
    "complex_noise = np.sqrt(1e-6)*(np.random.normal(0,1,N) + 1j*np.random.normal(0,1,N))\n",
    "qpsk_data += complex_noise\n",
    "\n",
    "impaired_qpsk_data = F.coarse_gain_change(\n",
    "    data = qpsk_data,\n",
    "    gain_change_db=20,\n",
    "    start_idx = N//2\n",
    ")\n",
    "\n",
    "fig = plt.figure(figsize=(12,6))\n",
    "ax = fig.add_subplot(1,1,1)\n",
    "ax.plot(20*np.log10(np.abs(qpsk_data)),label='Input')\n",
    "ax.plot(20*np.log10(np.abs(impaired_qpsk_data)),label='With Gain Change')\n",
    "ax.grid()\n",
    "ax.set_title('Constellation Plot')\n",
    "ax.set_xlabel('Time Index $n$')\n",
    "ax.set_ylabel('Magnitude (dB)')\n",
    "ax.legend(fontsize='large', loc='upper left');\n",
    "\n"
   ]
  }
 ],
 "metadata": {
  "kernelspec": {
   "display_name": "Python 3 (ipykernel)",
   "language": "python",
   "name": "python3"
  },
  "language_info": {
   "codemirror_mode": {
    "name": "ipython",
    "version": 3
   },
   "file_extension": ".py",
   "mimetype": "text/x-python",
   "name": "python",
   "nbconvert_exporter": "python",
   "pygments_lexer": "ipython3",
   "version": "3.10.12"
  }
 },
 "nbformat": 4,
 "nbformat_minor": 5
}
