{
 "cells": [
  {
   "cell_type": "markdown",
   "id": "678d16da",
   "metadata": {},
   "source": [
    "# Carrier Phase Offset\n",
    "Carrier phase offset is a randomized phase between 0 and $2\\pi$ that is applied to a signal. The transform is usually employed to simulate a fixed carrier phase offset corresponding to a fixed propagation time delay for the signal that may include transmitter hardware, the channel, and the receiver hardware. The effect is applied by multiplying the signal by complex exponential $e^{j\\phi}$ where $\\phi \\sim U(0,2\\pi)$."
   ]
  },
  {
   "cell_type": "code",
   "execution_count": null,
   "id": "412f7598-c06e-42aa-bc26-1f26abfb4043",
   "metadata": {},
   "outputs": [],
   "source": [
    "from torchsig.signals.signal_types import Signal\n",
    "from torchsig.datasets.dataset_metadata import DatasetMetadata\n",
    "from torchsig.signals.builders.constellation import ConstellationSignalBuilder\n",
    "import torchsig.transforms.functional as F\n",
    "\n",
    "import numpy as np\n",
    "%matplotlib inline\n",
    "import matplotlib.pyplot as plt"
   ]
  },
  {
   "cell_type": "markdown",
   "id": "fc9a89bd-0491-40ac-91e3-cd3178b947f8",
   "metadata": {},
   "source": [
    "Function for generating the test QPSK modulated signal."
   ]
  },
  {
   "cell_type": "code",
   "execution_count": null,
   "id": "f5f0229d-db8b-49c4-b5f0-be139616202c",
   "metadata": {},
   "outputs": [],
   "source": [
    "def generate_qpsk_signal(num_iq_samples: int = 128, scale: float = 1.0) -> Signal:\n",
    "    \"\"\"Generate a scaled, high SNR baseband QPSK Signal.\n",
    "\n",
    "        Args:\n",
    "        num_iq_samples (int, optional): Length of sample. Defaults to 10.\n",
    "        scale (int, optional): scale normalized signal data. Defaults to 1.0.\n",
    "\n",
    "        Returns:\n",
    "            signal: generated Signal \n",
    "\n",
    "    \"\"\"\n",
    "    sample_rate = 10e6\n",
    "    md = DatasetMetadata(\n",
    "        num_iq_samples_dataset = num_iq_samples,\n",
    "        fft_size = 4,\n",
    "        impairment_level = 0,\n",
    "        sample_rate = sample_rate,\n",
    "        num_signals_max = 1,\n",
    "        num_signals_min = 1,\n",
    "        num_signals_distribution = [1.0],\n",
    "        snr_db_min = 100.0,\n",
    "        snr_db_max = 100.0,\n",
    "        signal_duration_min = 1.00*num_iq_samples/sample_rate,\n",
    "        signal_duration_max = 1.00*num_iq_samples/sample_rate,\n",
    "        signal_bandwidth_min = sample_rate/4,\n",
    "        signal_bandwidth_max = sample_rate/4,\n",
    "        signal_center_freq_min = 0.0,\n",
    "        signal_center_freq_max = 0.0,         \n",
    "        class_list = ['qpsk'],\n",
    "        class_distribution = [1.0],\n",
    "        seed = 42\n",
    "    )\n",
    "\n",
    "    builder = ConstellationSignalBuilder(\n",
    "        dataset_metadata = md, \n",
    "        class_name = 'qpsk',\n",
    "        seed = 42\n",
    "    )\n",
    "    signal = builder.build()\n",
    "\n",
    "    # normalize, then scale data   \n",
    "    signal.data = F.normalize(\n",
    "        data = signal.data,\n",
    "        norm_order = 2,\n",
    "        flatten = False\n",
    "    )\n",
    "    signal.data = np.multiply(signal.data, scale)\n",
    "\n",
    "    return signal"
   ]
  },
  {
   "cell_type": "markdown",
   "id": "4c4c30f5-3649-49a3-99e6-bf7709197402",
   "metadata": {},
   "source": [
    "Generate modulated input data and apply the transform with a fixed pi/8 phase offset."
   ]
  },
  {
   "cell_type": "code",
   "execution_count": null,
   "id": "50a617f8-356f-4b7d-8f83-fc51f9508b3d",
   "metadata": {},
   "outputs": [],
   "source": [
    "# test data\n",
    "N = 1024\n",
    "qpsk_data = generate_qpsk_signal(num_iq_samples = N, scale = 1.0).data\n",
    "\n",
    "# apply transform\n",
    "impaired_qpsk_data = F.phase_offset(\n",
    "    data = qpsk_data,\n",
    "    phase = np.pi/8\n",
    ")"
   ]
  },
  {
   "cell_type": "markdown",
   "id": "9557adff-02e4-43d4-916e-e303314c7d7d",
   "metadata": {},
   "source": [
    "Plot the I/Q constellation result - note the fixed pi/8 rotation for all samples."
   ]
  },
  {
   "cell_type": "code",
   "execution_count": null,
   "id": "c4b8063d-748b-4484-9112-9ac0137ca02a",
   "metadata": {},
   "outputs": [],
   "source": [
    "fig = plt.figure(figsize=(6,6))\n",
    "ax = fig.add_subplot(1,1,1)\n",
    "ax.set_box_aspect(1)\n",
    "ax.plot(np.real(qpsk_data),np.imag(qpsk_data),label='Input')\n",
    "ax.plot(np.real(impaired_qpsk_data),np.imag(impaired_qpsk_data),alpha=0.5,label='Phase Offset')\n",
    "ax.grid()\n",
    "ax.set_title('Constellation Plot')\n",
    "ax.set_xlabel('Real')\n",
    "ax.set_ylabel('Imag')\n",
    "ax.legend(fontsize='large', loc='upper left');"
   ]
  }
 ],
 "metadata": {
  "kernelspec": {
   "display_name": "Python 3 (ipykernel)",
   "language": "python",
   "name": "python3"
  },
  "language_info": {
   "codemirror_mode": {
    "name": "ipython",
    "version": 3
   },
   "file_extension": ".py",
   "mimetype": "text/x-python",
   "name": "python",
   "nbconvert_exporter": "python",
   "pygments_lexer": "ipython3",
   "version": "3.10.12"
  }
 },
 "nbformat": 4,
 "nbformat_minor": 5
}
