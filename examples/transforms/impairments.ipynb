{
 "cells": [
  {
   "cell_type": "markdown",
   "metadata": {},
   "source": [
    "# TorchSig: Impairments\n",
    "\n",
    "This notebook describes TorchSig's concept of **impairments** and the parameterized Transform lists that comprise different TorchSig impairment levels.\n",
    "\n",
    "---"
   ]
  },
  {
   "cell_type": "markdown",
   "metadata": {},
   "source": [
    "## TorchSig Impairment Levels\n",
    "The Impairments class is a special type of Transform that defines prepackaged lists of parameterized Transforms that are applied in a particular order to generate TorchSig datasets.\n",
    "\n",
    "```python\n",
    "from torchsig.transforms.impairments import Impairments\n",
    "```\n",
    "\n",
    "Impairments is usually employed within generation of TorchSig datasets where the specified **level** parameter guides which Transform list is used for data generation. The different levels were created by Radio Frequency engineers familiar with benchtop and over-the-air device testing. Currently, the provided impairments are\\:\n",
    "- Level 0: Perfect (digital) environment\n",
    "- Level 1: Cabled (RF benchtop) environment\n",
    "- Level 2: Wireless (RF over-the-air) environment\n",
    "\n",
    "For levels greater than 0, the components of each Impairment capture the in-order TorchSig Transforms that model transmitter, channel, and receiver effects."
   ]
  },
  {
   "cell_type": "markdown",
   "metadata": {},
   "source": [
    "## Applying Impairments to datasets\n",
    "Each Impairments instance holds two Transforms, representing the composition of all impairments to be applied to individual bursts within a signal, and the impairments to be applied to the signal as a whole.\n",
    "\n",
    "These transforms, like any other transform or callable object, can be passed into Torchsig datasets.\n",
    "\n",
    "In the example below, we are applying level 2 impairments (more detail on impairment levels below) to our dataset."
   ]
  },
  {
   "cell_type": "code",
   "execution_count": null,
   "metadata": {},
   "outputs": [],
   "source": [
    "from torchsig.datasets.dataset_metadata import DatasetMetadata\n",
    "from torchsig.datasets.datasets import TorchSigIterableDataset\n",
    "from torchsig.transforms.impairments import Impairments"
   ]
  },
  {
   "cell_type": "code",
   "execution_count": null,
   "metadata": {},
   "outputs": [],
   "source": [
    "dataset_metadata = DatasetMetadata(num_iq_samples_dataset=1024, fft_size=64)\n",
    "impairments = Impairments(level=2)\n",
    "burst_impairments = impairments.signal_transforms\n",
    "whole_signal_impairments = impairments.dataset_transforms\n",
    "\n",
    "burst_impairments, whole_signal_impairments"
   ]
  },
  {
   "cell_type": "code",
   "execution_count": null,
   "metadata": {},
   "outputs": [],
   "source": [
    "dataset = TorchSigIterableDataset(dataset_metadata=dataset_metadata, transforms=[whole_signal_impairments], component_transforms=[burst_impairments])"
   ]
  },
  {
   "cell_type": "markdown",
   "metadata": {},
   "source": [
    "## Impairments: Machine Learning Transforms \n",
    "The Machine Learning (ML) Transforms are a set of data-oriented augmentations and manipulations that TorchSig developers have commonly found to aid with the training of communications signal domain ML models. You might think of these analogously to the randomized augmentations in image rotation, noise, and local region manipulation that often enhance generalization and speed convergence during model training in other domains like computer vision. These are purely data processing transformations that are not meant to represent real world signal effects and conditions. \n",
    "\n",
    "As of TorchSig v2.0.0, the current ML Transform definition randomly chooses among a variety of sample dropping, I/Q channel swapping, slope addition and time series reversal augmentations."
   ]
  },
  {
   "cell_type": "markdown",
   "metadata": {},
   "source": [
    "## Impairments Level 0\n",
    "Impairments **level 0** comprises a pristine, unimpaired TorchSig signal generation environment that only exists in digital simulations. No additional signal impairments are present, and only the Machine Learning Transforms are applied. This level can usefully serve as a TorchSig baseline useful for data pipeline validation or as a basis for adding your own custom list of Transforms when building your own environments."
   ]
  },
  {
   "cell_type": "markdown",
   "metadata": {},
   "source": [
    "## Impairments Level 1\n",
    "Impairments **level 1** models an RF benchtop or 'wired' channel configuration where plausible Commercial Off The Shelf (COTS) transmitter and recevier hardware apply typical signal nonidealities, but the wired channel is a cable that ensures the path from transmitter to receiver is stable and benign.\n",
    "\n",
    "Impairment level 1 introduces a list transmitter hardware Transforms applied to signals after modulation, but prior to traversing the wired channel. This order and the default Transform parameters model the sequence those linear and nonlinear effects would apply to each transmitted signal. \n",
    "\n",
    "As of TorchSig v2.0.0, the level 1 transmitter Transform list is:\n",
    "            - RandomApply(Quantize(),0.75),\n",
    "            - RandomApply(PassbandRipple(),0.75),\n",
    "            - RandomApply(IQImbalance(),0.25),\n",
    "            - RandomApply(CarrierPhaseNoise(),0.75),\n",
    "            - RandomApply(CarrierFrequencyDrift(),0.75),\n",
    "            - RandomApply(CarrierPhaseOffset(),1.0),\n",
    "            - RandomApply(IntermodulationProducts(),0.5),\n",
    "            - RandomApply(NonlinearAmplifier(),0.75),\n",
    "            - RandomApply(Spurs(),0.75),\n",
    "            - RandomApply(SpectralInversion(),0.25)\n",
    "\n",
    "Similarly, level 1 introduces a list of receiver hardware Transforms applied to signals after the transmitter and propagation channels cause their effects. \n",
    "\n",
    "As of TorchSig v2.0.0, the level 1 receiver Transform list is:\n",
    "            - RandomApply(IntermodulationProducts(),0.5),\n",
    "            - RandomApply(NonlinearAmplifier(),0.75),\n",
    "            - RandomApply(CoarseGainChange(),0.25),\n",
    "            - RandomApply(Spurs(),0.75),\n",
    "            - RandomApply(IQImbalance(),0.5),\n",
    "            - RandomApply(CarrierPhaseNoise(),0.75),\n",
    "            - RandomApply(CarrierFrequencyDrift(),0.75),\n",
    "            - RandomApply(CarrierPhaseOffset(),1.0),\n",
    "            - RandomApply(PassbandRipple(),0.75),\n",
    "            - RandomApply(Quantize(),0.75),\n",
    "            - RandomApply(DigitalAGC(),0.25),\n",
    "\n",
    "The Machine Learning Transforms are applied after the receiver impairments."
   ]
  },
  {
   "cell_type": "markdown",
   "metadata": {},
   "source": [
    "## Impairments Level 2\n",
    "Impairments **level 2** models an RF over-the-air environment by introducing a wireless channel model using the TorchSig Fading Transform. Therefore, level 2 has all the effects of level 1 (including ML Transforms), plus the randomized addition of a fading channel. As of TorchSig v2.0.0, by default this wireless channel is a straightfoward Rayleigh fading model."
   ]
  }
 ],
 "metadata": {
  "kernelspec": {
   "display_name": "Python 3 (ipykernel)",
   "language": "python",
   "name": "python3"
  },
  "language_info": {
   "codemirror_mode": {
    "name": "ipython",
    "version": 3
   },
   "file_extension": ".py",
   "mimetype": "text/x-python",
   "name": "python",
   "nbconvert_exporter": "python",
   "pygments_lexer": "ipython3",
   "version": "3.12.3"
  }
 },
 "nbformat": 4,
 "nbformat_minor": 4
}
