{
 "cells": [
  {
   "cell_type": "markdown",
   "id": "71d06404-6c20-40be-a8b7-9788df6ec9d5",
   "metadata": {},
   "source": [
    "# Noise Generation and Additive Noise Transform\n",
    "This notebook illustrates some of the primary options for generating noise of various configurations using both the provided noise_generator utility and the additive noise transform"
   ]
  },
  {
   "cell_type": "code",
   "execution_count": null,
   "id": "412f7598-c06e-42aa-bc26-1f26abfb4043",
   "metadata": {},
   "outputs": [],
   "source": [
    "import torchsig.transforms.functional as F\n",
    "from torchsig.utils.dsp import (\n",
    "    TorchSigComplexDataType,\n",
    "    noise_generator\n",
    ")\n",
    "\n",
    "import numpy as np\n",
    "%matplotlib inline\n",
    "import matplotlib.pyplot as plt"
   ]
  },
  {
   "cell_type": "markdown",
   "id": "54e296ac-2aa3-415d-88fc-2914cd3c99dc",
   "metadata": {},
   "source": [
    "Generate continous noise of colors white, pink, and red. Plot the magnitude spectra and compare the frequency roll-offs."
   ]
  },
  {
   "cell_type": "code",
   "execution_count": null,
   "id": "9281ea37-9e20-405a-84da-9d71c5ba41db",
   "metadata": {},
   "outputs": [],
   "source": [
    "# continous noise generator plots\n",
    "N = 100000\n",
    "freqs = np.fft.fftfreq(N)\n",
    "\n",
    "# plots\n",
    "plt.style.use('dark_background')\n",
    "fig, ax = plt.subplots()\n",
    "\n",
    "noise_white = noise_generator(N, 1.0, 'white', True, np.random.default_rng(42))\n",
    "spectrum, freqs, _ = ax.magnitude_spectrum(noise_white, Fs=1.0, scale='linear', sides='twosided', color='white');\n",
    "\n",
    "noise_pink = noise_generator(N, 1.0, 'pink', True, np.random.default_rng(42))\n",
    "spectrum, freqs, _ = ax.magnitude_spectrum(noise_pink, Fs=1.0, scale='linear', sides='twosided', color='pink');\n",
    "\n",
    "noise_red = noise_generator(N, 1.0, 'red', True, np.random.default_rng(42))\n",
    "spectrum, freqs, _ = ax.magnitude_spectrum(noise_red, Fs=1.0, scale='linear', sides='twosided', color='red');\n",
    "\n",
    "ax.set_yscale('log')\n",
    "# ax.set_xscale('log')\n",
    "ax.set_xscale('symlog', \n",
    "             base=10,          # Logarithm base\n",
    "             linthresh=1/N)   # Threshold for linear region near zero\n",
    "\n",
    "# Configure axis labels and grid\n",
    "ax.set_xlabel('Frequency (Hz) [log]');\n",
    "ax.set_ylabel('Magnitude [log]');\n",
    "#plt.ylim([1e-5, None]);"
   ]
  },
  {
   "cell_type": "markdown",
   "id": "1838d926-f237-40df-97cd-e845221b3e5e",
   "metadata": {},
   "source": [
    "Generate impulsive noise of colors white, pink, and red. Plot the magnitude spectra and compare the frequency roll-offs."
   ]
  },
  {
   "cell_type": "code",
   "execution_count": null,
   "id": "817c9523-f8e9-4626-b8fd-b5333109484e",
   "metadata": {},
   "outputs": [],
   "source": [
    "N = 100000\n",
    "freqs = np.fft.fftfreq(N)\n",
    "\n",
    "# plots\n",
    "plt.style.use('dark_background')\n",
    "fig, ax = plt.subplots()\n",
    "\n",
    "noise_white = noise_generator(N, 1.0, 'white', False, np.random.default_rng(42))\n",
    "spectrum, freqs, _ = ax.magnitude_spectrum(noise_white, Fs=1.0, scale='linear', sides='twosided', color='white');\n",
    "\n",
    "noise_pink = noise_generator(N, 1.0, 'pink', False, np.random.default_rng(42))\n",
    "spectrum, freqs, _ = ax.magnitude_spectrum(noise_pink, Fs=1.0, scale='linear', sides='twosided', color='pink');\n",
    "\n",
    "noise_red = noise_generator(N, 1.0, 'red', False, np.random.default_rng(42))\n",
    "spectrum, freqs, _ = ax.magnitude_spectrum(noise_red, Fs=1.0, scale='linear', sides='twosided', color='red');\n",
    "\n",
    "ax.set_yscale('log')\n",
    "# ax.set_xscale('log')\n",
    "ax.set_xscale('symlog', \n",
    "             base=10,          # Logarithm base\n",
    "             linthresh=1/N)   # Threshold for linear region near zero\n",
    "\n",
    "# Configure axis labels and grid\n",
    "ax.set_xlabel('Frequency (Hz) [log]');\n",
    "ax.set_ylabel('Magnitude [log]');\n",
    "#plt.ylim([1e-5, None]);"
   ]
  },
  {
   "cell_type": "markdown",
   "id": "fd8bdd8d-800b-4477-8e01-5f1ad4295d93",
   "metadata": {},
   "source": [
    "Demonstrate the additive noise function transform."
   ]
  },
  {
   "cell_type": "code",
   "execution_count": null,
   "id": "b2e38827-fdd7-464f-a4bb-fdf385c0def5",
   "metadata": {},
   "outputs": [],
   "source": [
    "# continous noise generator plots\n",
    "N = 100000\n",
    "data_z = np.zeros((N,), dtype=TorchSigComplexDataType)\n",
    "freqs = np.fft.fftfreq(N)\n",
    "\n",
    "# plots\n",
    "plt.style.use('dark_background')\n",
    "fig = plt.figure()\n",
    "ax1 = fig.add_subplot(2,1,1)\n",
    "ax2 = fig.add_subplot(2,1,2)\n",
    "\n",
    "noise_z = F.additive_noise(data_z, 1.0, 'white', True, np.random.default_rng(42))\n",
    "spectrum, freqs, _ = ax.magnitude_spectrum(noise_z, Fs=1.0, scale='linear', sides='twosided', color='white');\n",
    "\n",
    "ax1.plot(np.real(noise_z),label='Real')\n",
    "ax1.plot(np.imag(noise_z),label='Imag')\n",
    "ax1.legend(loc='upper right')\n",
    "\n",
    "ax2.plot(freqs,spectrum)\n",
    "ax2.set_yscale('log')\n",
    "ax2.set_xscale('symlog', \n",
    "              base=10,          # Logarithm base\n",
    "              linthresh=1/N)   # Threshold for linear region near zero\n",
    "# # Configure axis labels and grid\n",
    "ax2.set_xlabel('Frequency (Hz) [log]');\n",
    "ax2.set_ylabel('Magnitude [log]');\n",
    "plt.ylim([1e-5, None]);"
   ]
  }
 ],
 "metadata": {
  "kernelspec": {
   "display_name": "Python 3 (ipykernel)",
   "language": "python",
   "name": "python3"
  },
  "language_info": {
   "codemirror_mode": {
    "name": "ipython",
    "version": 3
   },
   "file_extension": ".py",
   "mimetype": "text/x-python",
   "name": "python",
   "nbconvert_exporter": "python",
   "pygments_lexer": "ipython3",
   "version": "3.10.12"
  }
 },
 "nbformat": 4,
 "nbformat_minor": 5
}
