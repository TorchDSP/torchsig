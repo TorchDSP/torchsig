{
 "cells": [
  {
   "cell_type": "markdown",
   "id": "71d06404-6c20-40be-a8b7-9788df6ec9d5",
   "metadata": {},
   "source": [
    "# Doppler Transform\n",
    "This notebook illustrates the Doppler functional transform. This wideband Doppler effect operates over the entire sampled band by rescaling the input time series for a constant relative velocity and propagation speed."
   ]
  },
  {
   "cell_type": "code",
   "execution_count": null,
   "id": "412f7598-c06e-42aa-bc26-1f26abfb4043",
   "metadata": {},
   "outputs": [],
   "source": [
    "from torchsig.signals.signal_types import Signal\n",
    "from torchsig.datasets.dataset_metadata import DatasetMetadata\n",
    "from torchsig.signals.builders.tone import ToneSignalBuilder\n",
    "import torchsig.transforms.functional as F\n",
    "import torchsig.utils.dsp as dsp\n",
    "from torchsig.utils.dsp import (\n",
    "    TorchSigComplexDataType\n",
    ")\n",
    "\n",
    "import numpy as np\n",
    "from scipy.signal import find_peaks\n",
    "%matplotlib inline\n",
    "import matplotlib.pyplot as plt\n",
    "from scipy.constants import c"
   ]
  },
  {
   "cell_type": "markdown",
   "id": "89d47668-b5d3-488f-aa95-d700929b940a",
   "metadata": {},
   "source": [
    "Function for generating the input constant tone test signal."
   ]
  },
  {
   "cell_type": "code",
   "execution_count": null,
   "id": "d2ea07c7-6353-47b8-98fa-f77b0bd806b9",
   "metadata": {},
   "outputs": [],
   "source": [
    "def generate_tone_signal(num_iq_samples: int = 10, scale: float = 1.0) -> Signal:\n",
    "    \"\"\"Generate a scaled, high SNR baseband tone Signal.\n",
    "\n",
    "        Args:\n",
    "        num_iq_samples (int, optional): Length of sample. Defaults to 10.\n",
    "        scale (int, optional): scale normalized signal data. Defaults to 1.0.\n",
    "\n",
    "        Returns:\n",
    "            signal: generated Signal.\n",
    "\n",
    "    \"\"\"\n",
    "    sample_rate = 10e6\n",
    "    md = DatasetMetadata(\n",
    "        num_iq_samples_dataset = num_iq_samples,\n",
    "        fft_size = 4,\n",
    "        impairment_level = 0,\n",
    "        sample_rate = sample_rate,\n",
    "        num_signals_max = 1,\n",
    "        num_signals_min = 1,\n",
    "        num_signals_distribution = [1.0],\n",
    "        snr_db_min = 100.0,\n",
    "        snr_db_max = 100.0,\n",
    "        signal_duration_min = 1.00*num_iq_samples/sample_rate,\n",
    "        signal_duration_max = 1.00*num_iq_samples/sample_rate,\n",
    "        signal_bandwidth_min = sample_rate/4,\n",
    "        signal_bandwidth_max = sample_rate/4,\n",
    "        signal_center_freq_min = 0.0,\n",
    "        signal_center_freq_max = 0.0,         \n",
    "        class_list = ['tone'],\n",
    "        class_distribution = [1.0],\n",
    "        seed = 42\n",
    "    )\n",
    "\n",
    "    builder = ToneSignalBuilder(\n",
    "        dataset_metadata = md, \n",
    "        class_name = 'tone',\n",
    "        seed = 42\n",
    "    )\n",
    "    signal = builder.build()\n",
    "\n",
    "    # normalize, then scale data   \n",
    "    signal.data = F.normalize(\n",
    "        data = signal.data,\n",
    "        norm_order = 2,\n",
    "        flatten = False\n",
    "    )\n",
    "    signal.data = np.multiply(signal.data, scale).astype(TorchSigComplexDataType)\n",
    "\n",
    "    return signal"
   ]
  },
  {
   "cell_type": "markdown",
   "id": "a0fe629d-fc9a-46cb-891c-341a41132d30",
   "metadata": {},
   "source": [
    "Place the input tone signal frequency at 0.2, then apply the wideband Doppler effect with a time scaling factor of 1.03. Estimate the frequency shift and compare it with the true shift."
   ]
  },
  {
   "cell_type": "code",
   "execution_count": null,
   "id": "15c185fe-9365-45a4-8e12-62bf78c71d7d",
   "metadata": {},
   "outputs": [],
   "source": [
    "rng = np.random.default_rng(42)\n",
    "\n",
    "fc = 0.2   # tone center frequency\n",
    "N = 10000  # tone signal samples\n",
    "sampling_rate = 4.0\n",
    "\n",
    "# input tone signal\n",
    "tone_bb_data = generate_tone_signal(num_iq_samples = N, scale = 1.0).data \n",
    "tone_data = tone_bb_data * np.exp(2j * np.pi * fc * np.arange(N) / sampling_rate) \n",
    "\n",
    "# Doppler parameters\n",
    "velocity = -1e7\n",
    "propagation_speed = 2.9979e8\n",
    "alpha = propagation_speed / (propagation_speed - velocity)\n",
    "\n",
    "# apply Doppler transform\n",
    "data_d = F.doppler(\n",
    "    data = tone_data,\n",
    "    velocity = velocity,\n",
    "    propagation_speed = propagation_speed,\n",
    ")\n",
    "print(f\"Doppler alpha factor: {alpha:.4f}\")\n",
    "print(f\"True tone frequency pre-Doppler: {fc:.4f}\")\n",
    "print(f\"True tone frequency post-Doppler: {fc*alpha:.4f}\")\n",
    "\n",
    "# estimate frequency shift\n",
    "D = np.abs(np.fft.fft(data_d, norm='ortho'))\n",
    "freqs = np.fft.fftfreq(len(D)) * sampling_rate\n",
    "peaks, _ = find_peaks(D, height=0.1, distance=100)\n",
    "print(f\"Estimated tone frequency post-Doppler: {freqs[peaks[0]]:.4f}\")"
   ]
  },
  {
   "cell_type": "markdown",
   "id": "d3d4938d-3af8-4bd2-a957-2d585fd18fd6",
   "metadata": {},
   "source": [
    "Plot the input and output spectrum magnitudes. Note that the output magnitude frequency response is not ideally clean - it has some residual frequency spurious components from the multiphase polyphase resampler that implements the wideband Doppler shift."
   ]
  },
  {
   "cell_type": "code",
   "execution_count": null,
   "id": "e85c5c8e-5317-48b2-b50d-b410c0509eeb",
   "metadata": {},
   "outputs": [],
   "source": [
    "plt.style.use('dark_background')\n",
    "fig, ax = plt.subplots()\n",
    "\n",
    "spectrum, freqs, _ = ax.magnitude_spectrum(tone_data, Fs=sampling_rate, scale='linear', sides='twosided', color='white');\n",
    "spectrum, freqs, _ = ax.magnitude_spectrum(data_d, Fs=sampling_rate, scale='linear', sides='twosided', color='red');\n",
    "ax.set_yscale('log')\n",
    "ax.set_ylabel('Magnitude');\n",
    "plt.ylim([1e-15, None]);"
   ]
  }
 ],
 "metadata": {
  "kernelspec": {
   "display_name": "venv",
   "language": "python",
   "name": "python3"
  },
  "language_info": {
   "codemirror_mode": {
    "name": "ipython",
    "version": 3
   },
   "file_extension": ".py",
   "mimetype": "text/x-python",
   "name": "python",
   "nbconvert_exporter": "python",
   "pygments_lexer": "ipython3",
   "version": "3.12.3"
  }
 },
 "nbformat": 4,
 "nbformat_minor": 5
}
