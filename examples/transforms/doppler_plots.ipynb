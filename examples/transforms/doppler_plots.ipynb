{
 "cells": [
  {
   "cell_type": "markdown",
   "id": "71d06404-6c20-40be-a8b7-9788df6ec9d5",
   "metadata": {},
   "source": [
    "# Plots of Doppler transform"
   ]
  },
  {
   "cell_type": "code",
   "execution_count": null,
   "id": "412f7598-c06e-42aa-bc26-1f26abfb4043",
   "metadata": {},
   "outputs": [],
   "source": [
    "from torchsig.signals.signal_types import Signal\n",
    "from torchsig.datasets.dataset_metadata import NarrowbandMetadata\n",
    "from torchsig.signals.builders.tone import ToneSignalBuilder\n",
    "import torchsig.transforms.functional as F\n",
    "import torchsig.utils.dsp as dsp\n",
    "from torchsig.utils.dsp import (\n",
    "    torchsig_complex_data_type\n",
    ")\n",
    "\n",
    "import numpy as np\n",
    "from scipy.signal import find_peaks\n",
    "%matplotlib inline\n",
    "import matplotlib.pyplot as plt\n",
    "from scipy.constants import c"
   ]
  },
  {
   "cell_type": "code",
   "execution_count": null,
   "id": "d2ea07c7-6353-47b8-98fa-f77b0bd806b9",
   "metadata": {},
   "outputs": [],
   "source": [
    "def generate_tone_signal(num_iq_samples: int = 10, scale: float = 1.0) -> Signal:\n",
    "    \"\"\"Generate a scaled, high SNR baseband tone Signal.\n",
    "\n",
    "        Args:\n",
    "        num_iq_samples (int, optional): Length of sample. Defaults to 10.\n",
    "        scale (int, optional): scale normalized signal data. Defaults to 1.0.\n",
    "\n",
    "        Returns:\n",
    "            signal: generated Signal.\n",
    "\n",
    "    \"\"\"\n",
    "    sample_rate = 10e6\n",
    "    md = NarrowbandMetadata(\n",
    "        num_iq_samples_dataset = num_iq_samples,\n",
    "        fft_size = 4,\n",
    "        impairment_level = 0,\n",
    "        sample_rate = sample_rate,\n",
    "        num_signals_min = 1,\n",
    "        num_signals_distribution = [1.0],\n",
    "        snr_db_min = 100.0,\n",
    "        snr_db_max = 100.0,\n",
    "        signal_duration_min = 1.00*num_iq_samples/sample_rate,\n",
    "        signal_duration_max = 1.00*num_iq_samples/sample_rate,\n",
    "        signal_bandwidth_min = sample_rate/4,\n",
    "        signal_bandwidth_max = sample_rate/4,\n",
    "        signal_center_freq_min = 0.0,\n",
    "        signal_center_freq_max = 0.0,         \n",
    "        class_list = ['tone'],\n",
    "        class_distribution = [1.0],\n",
    "        seed = 42\n",
    "    )\n",
    "\n",
    "    builder = ToneSignalBuilder(\n",
    "        dataset_metadata = md, \n",
    "        class_name = 'tone',\n",
    "        seed = 42\n",
    "    )\n",
    "    signal = builder.build()\n",
    "\n",
    "    # normalize, then scale data   \n",
    "    signal.data = F.normalize(\n",
    "        data = signal.data,\n",
    "        norm_order = 2,\n",
    "        flatten = False\n",
    "    )\n",
    "    signal.data = np.multiply(signal.data, scale).astype(torchsig_complex_data_type)\n",
    "\n",
    "    return signal"
   ]
  },
  {
   "cell_type": "code",
   "execution_count": null,
   "id": "15c185fe-9365-45a4-8e12-62bf78c71d7d",
   "metadata": {},
   "outputs": [],
   "source": [
    "# Doppler test cases\n",
    "rng = np.random.default_rng(42)\n",
    "\n",
    "sampling_rate = 1.0\n",
    "velocity = 1e7\n",
    "\n",
    "N = 10000\n",
    "tone_bb_data = generate_tone_signal(num_iq_samples = N, scale = 1.0).data \n",
    "tone_data = tone_bb_data * np.exp(2j * np.pi * 0.2 * np.arange(N) / sampling_rate) # f0 = 0.2\n",
    "\n",
    "data_d = F.doppler(\n",
    "    data = tone_data,\n",
    "    velocity = velocity,\n",
    "    sampling_rate = sampling_rate\n",
    ")"
   ]
  },
  {
   "cell_type": "code",
   "execution_count": null,
   "id": "e85c5c8e-5317-48b2-b50d-b410c0509eeb",
   "metadata": {},
   "outputs": [],
   "source": [
    "# plots\n",
    "plt.style.use('dark_background')\n",
    "fig, ax = plt.subplots()\n",
    "\n",
    "spectrum, freqs, _ = ax.magnitude_spectrum(tone_data, Fs=sampling_rate, scale='linear', sides='twosided', color='white');\n",
    "spectrum, freqs, _ = ax.magnitude_spectrum(data_d, Fs=sampling_rate, scale='linear', sides='twosided', color='red');\n",
    "\n",
    "\n",
    "ax.set_yscale('log')\n",
    "# ax.set_xscale('log')\n",
    "# ax.set_xscale('symlog', \n",
    "#              base=10,          # Logarithm base\n",
    "#              linthresh=1/N)   # Threshold for linear region near zero\n",
    "\n",
    "# Configure axis labels and grid\n",
    "#ax.set_xlabel('Frequency (Hz) [log]');\n",
    "ax.set_ylabel('Magnitude [log]');\n",
    "#plt.ylim([1e-5, None]);"
   ]
  },
  {
   "cell_type": "code",
   "execution_count": null,
   "id": "225e9be0-97ca-404d-af7f-45bfce10e348",
   "metadata": {},
   "outputs": [],
   "source": [
    "# alpha_default =  2.9979e8 / ( 2.9979e8 - 1e2)\n",
    "# print(alpha_default)\n",
    "\n",
    "alpha_test =  c / ( c - 1e7)\n",
    "print(alpha_test)\n",
    "print(\"new freq:\",alpha_test*0.2)\n",
    "\n",
    "\n",
    "freqs = np.fft.fftfreq(N) * 4.0\n",
    "print(freqs[1])\n"
   ]
  },
  {
   "cell_type": "code",
   "execution_count": null,
   "id": "a11aedb8-e88c-4f47-920d-f30cda2272e1",
   "metadata": {},
   "outputs": [],
   "source": [
    "D = np.abs(np.fft.fft(data_d, norm='ortho'))\n",
    "freqs = np.fft.fftfreq(N) * sampling_rate\n",
    "\n",
    "peaks, _ = find_peaks(D, height=0.1, distance=N/20)\n",
    "plt.plot(freqs, D)\n",
    "plt.plot(freqs[peaks], D[peaks], \"x\")\n",
    "\n",
    "print(freqs[peaks])\n",
    "#print(D[peaks])\n"
   ]
  }
 ],
 "metadata": {
  "kernelspec": {
   "display_name": "Python 3",
   "language": "python",
   "name": "python3"
  },
  "language_info": {
   "codemirror_mode": {
    "name": "ipython",
    "version": 3
   },
   "file_extension": ".py",
   "mimetype": "text/x-python",
   "name": "python",
   "nbconvert_exporter": "python",
   "pygments_lexer": "ipython3",
   "version": "3.10.12"
  }
 },
 "nbformat": 4,
 "nbformat_minor": 5
}
