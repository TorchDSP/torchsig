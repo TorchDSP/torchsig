{
 "cells": [
  {
   "attachments": {},
   "cell_type": "markdown",
   "metadata": {},
   "source": [
    "# Convolution Comparison"
   ]
  },
  {
   "cell_type": "code",
   "execution_count": 1,
   "metadata": {},
   "outputs": [],
   "source": [
    "plot_results = False\n",
    "tap_size = 1000\n",
    "signal_size = int(1e6)"
   ]
  },
  {
   "cell_type": "code",
   "execution_count": 2,
   "metadata": {},
   "outputs": [
    {
     "name": "stderr",
     "output_type": "stream",
     "text": [
      "/home/gvanhoy/Documents/projects/oscar/code/interference_detection/.venv/lib/python3.8/site-packages/tqdm/auto.py:21: TqdmWarning: IProgress not found. Please update jupyter and ipywidgets. See https://ipywidgets.readthedocs.io/en/stable/user_install.html\n",
      "  from .autonotebook import tqdm as notebook_tqdm\n"
     ]
    }
   ],
   "source": [
    "import numpy as np\n",
    "\n",
    "taps = np.arange(tap_size)\n",
    "signal = np.ones((signal_size,))\n",
    "\n",
    "result = np.convolve(taps, signal)\n",
    "\n",
    "if plot_results:\n",
    "    from matplotlib import pyplot as plt\n",
    "    plt.stem(result)\n",
    "\n",
    "import torch\n",
    "torch_taps = torch.arange(tap_size, dtype=torch.float).reshape(1, 1, -1)\n",
    "torch_signal = torch.ones(signal_size, dtype=torch.float).reshape(1, -1)\n",
    "result = torch.nn.functional.conv1d(torch_signal, torch.flip(torch_taps, dims=(2,)), padding=tap_size - 1)\n",
    "\n",
    "if plot_results:\n",
    "    from matplotlib import pyplot as plt\n",
    "    print(result.size())\n",
    "    plt.stem(result.numpy()[0])\n",
    "\n",
    "torch_gpu_taps = torch.arange(tap_size, dtype=torch.float).reshape(1, 1, -1).cuda()\n",
    "torch_gpu_signal = torch.ones(signal_size, dtype=torch.float).reshape(1, -1).cuda()\n",
    "\n",
    "result = torch.nn.functional.conv1d(torch_gpu_signal, torch.flip(torch_gpu_taps, dims=(2,)), padding=tap_size - 1)\n",
    "\n",
    "if plot_results:\n",
    "    from matplotlib import pyplot as plt\n",
    "    print(result.size())\n",
    "    plt.stem(result.numpy()[0])\n"
   ]
  },
  {
   "cell_type": "code",
   "execution_count": 3,
   "metadata": {},
   "outputs": [
    {
     "name": "stdout",
     "output_type": "stream",
     "text": [
      "101 ms ± 2.96 ms per loop (mean ± std. dev. of 7 runs, 10 loops each)\n"
     ]
    }
   ],
   "source": [
    "%timeit np.convolve(taps, signal)"
   ]
  },
  {
   "cell_type": "code",
   "execution_count": 4,
   "metadata": {},
   "outputs": [
    {
     "name": "stdout",
     "output_type": "stream",
     "text": [
      "877 ms ± 31.8 ms per loop (mean ± std. dev. of 7 runs, 1 loop each)\n"
     ]
    }
   ],
   "source": [
    "%timeit torch.nn.functional.conv1d(torch_signal, torch.flip(torch_taps, dims=(2,)), padding=tap_size-1)"
   ]
  },
  {
   "cell_type": "code",
   "execution_count": 5,
   "metadata": {},
   "outputs": [
    {
     "name": "stdout",
     "output_type": "stream",
     "text": [
      "2.45 ms ± 16.6 µs per loop (mean ± std. dev. of 7 runs, 1,000 loops each)\n"
     ]
    }
   ],
   "source": [
    "%timeit torch.nn.functional.conv1d(torch_gpu_signal, torch.flip(torch_gpu_taps, dims=(2,)), padding=tap_size-1)"
   ]
  },
  {
   "cell_type": "code",
   "execution_count": null,
   "metadata": {},
   "outputs": [],
   "source": []
  }
 ],
 "metadata": {
  "kernelspec": {
   "display_name": ".venv",
   "language": "python",
   "name": "python3"
  },
  "language_info": {
   "codemirror_mode": {
    "name": "ipython",
    "version": 3
   },
   "file_extension": ".py",
   "mimetype": "text/x-python",
   "name": "python",
   "nbconvert_exporter": "python",
   "pygments_lexer": "ipython3",
   "version": "3.8.10"
  },
  "orig_nbformat": 4
 },
 "nbformat": 4,
 "nbformat_minor": 2
}
