{
 "cells": [
  {
   "cell_type": "markdown",
   "id": "579e425b-e5de-4fdc-9908-ed8706d57194",
   "metadata": {
    "tags": []
   },
   "source": [
    "# Example 01 - Modulations Dataset\n",
    "This notebook steps through an example of how to use `torchsig` to instantiate a `SignalDataset` containing 53 unique modulations. The notebook then plots the signals using `Visualizers` for both the IQ and Spectrogram representations of the dataset. The end of the notebook then shows how the instantiated dataset can be saved to an LMDB static dataset for standalone research, experimentation, and/or analysis."
   ]
  },
  {
   "cell_type": "markdown",
   "id": "0d636a9e-55c1-47a1-bc20-9c472acecc3b",
   "metadata": {
    "tags": []
   },
   "source": [
    "----\n",
    "### Import Libraries\n",
    "First, import all the necessary public libraries as well as a few classes from the `torchsig` toolkit."
   ]
  },
  {
   "cell_type": "code",
   "execution_count": null,
   "id": "edd181f0-893f-4646-8d7a-2fe2ee2280f6",
   "metadata": {},
   "outputs": [],
   "source": [
    "from torchsig.utils.visualize import IQVisualizer, SpectrogramVisualizer\n",
    "from torchsig.datasets.modulations import ModulationsDataset\n",
    "from torchsig.utils.dataset import SignalDataset\n",
    "from torch.utils.data import DataLoader\n",
    "from torch.utils.writer import pickle_dumps\n",
    "from matplotlib import pyplot as plt\n",
    "from tqdm import tqdm\n",
    "import pytorch_lightning as pl\n",
    "import numpy as np\n",
    "import pickle\n",
    "import lmdb"
   ]
  },
  {
   "cell_type": "markdown",
   "id": "9d511e6b-7670-473b-a962-c08a9d341ec8",
   "metadata": {
    "tags": []
   },
   "source": [
    "----\n",
    "### Instantiate Modulations Dataset\n",
    "Next, instantiate the `ModulationsDataset` by passing in the desired classes, a boolean specifying whether to use the class name or index as the label, the desired level of signal impairments/augmentations, the number of IQ samples per example, and the total number of samples. Note that the total number of samples will be divided evenly among the class list (for example, `num_samples=5300` will result in 100x samples of each of the 53 modulation classes). Also note that the classes input parameter can be omitted if all classes are desired. \n",
    "\n",
    "If all classes are included at `level=0` (clean signals), all signals will occupy roughly half of the returned signal bandwidth except for the FSK and MSK modulations. These two subfamilies do not contain any pulse shaping, and as such are returned at roughly 1/8th occupied bandwidth for the main lobe. At the higher impairment levels, there is a randomized low pass filter applied at the 8x oversampled rate to suppress the sidelobes prior to downsampling to roughly the same half bandwidth target as the remaining signals.\n",
    "\n",
    "Within the OFDM family, there are 12 subclasses pertaining to the number of subcarriers present within the OFDM signal. These subcarriers are the powers of 2 from 64 to 2048 as well as the LTE specifications values of 72, 180, 300, 600, 900, and 1200. The DC subcarrier is randomly on or off throughout all subcarrier counts. The subcarrier modulations are divided into two categories: 1) randomly select a single modulation from the list: `bpsk, qpsk, 16qam, 64qam, 256qam, and 1024qam` and modulate all subcarriers with the random selection; and 2) randomly select a modulation from the same list for each subcarrier independently. The subcarrier modulations are not included in any of the labels for future classification tasks. In addition to these randomizations, the cyclic prefix ratio is also randomly selected between discrete values of 1/8 and 1/4, and it is also not included in the labels at this time. As a final randomization with the OFDM signals, two distinct sidelobe suppression techniques are evenly sampled from to smooth the discontinuities at the symbol boundaries: 1) apply a window, and 2) apply a low pass filter."
   ]
  },
  {
   "cell_type": "code",
   "execution_count": null,
   "id": "ee772ec3-c2b8-4cde-af9a-b1284df09342",
   "metadata": {},
   "outputs": [],
   "source": [
    "classes = [\n",
    "    \"ook\",\n",
    "    \"bpsk\",\n",
    "    \"4pam\",\n",
    "    \"4ask\",\n",
    "    \"qpsk\",\n",
    "    \"8pam\",\n",
    "    \"8ask\",\n",
    "    \"8psk\",\n",
    "    \"16qam\",\n",
    "    \"16pam\",\n",
    "    \"16ask\",\n",
    "    \"16psk\",\n",
    "    \"32qam\",\n",
    "    \"32qam_cross\",\n",
    "    \"32pam\",\n",
    "    \"32ask\",\n",
    "    \"32psk\",\n",
    "    \"64qam\",\n",
    "    \"64pam\",\n",
    "    \"64ask\",\n",
    "    \"64psk\",\n",
    "    \"128qam_cross\",\n",
    "    \"256qam\",\n",
    "    \"512qam_cross\",\n",
    "    \"1024qam\",\n",
    "    \"2fsk\",\n",
    "    \"2gfsk\",\n",
    "    \"2msk\",\n",
    "    \"2gmsk\",\n",
    "    \"4fsk\",\n",
    "    \"4gfsk\",\n",
    "    \"4msk\",\n",
    "    \"4gmsk\",\n",
    "    \"8fsk\",\n",
    "    \"8gfsk\",\n",
    "    \"8msk\",\n",
    "    \"8gmsk\",\n",
    "    \"16fsk\",\n",
    "    \"16gfsk\",\n",
    "    \"16msk\",\n",
    "    \"16gmsk\",\n",
    "    \"ofdm-64\",\n",
    "    \"ofdm-72\",\n",
    "    \"ofdm-128\",\n",
    "    \"ofdm-180\",\n",
    "    \"ofdm-256\",\n",
    "    \"ofdm-300\",\n",
    "    \"ofdm-512\",\n",
    "    \"ofdm-600\",\n",
    "    \"ofdm-900\",\n",
    "    \"ofdm-1024\",\n",
    "    \"ofdm-1200\",\n",
    "    \"ofdm-2048\",\n",
    "]\n",
    "num_classes = len(classes)\n",
    "level = 0\n",
    "include_snr = True\n",
    "\n",
    "# Seed the dataset instantiation for reproduceability\n",
    "pl.seed_everything(1234567891)\n",
    "\n",
    "dataset = ModulationsDataset(\n",
    "    classes=classes,\n",
    "    use_class_idx=False,\n",
    "    level=level,\n",
    "    num_iq_samples=4096,\n",
    "    num_samples=int(num_classes * 100),\n",
    "    include_snr=include_snr,\n",
    ")\n",
    "\n",
    "idx = 600\n",
    "if include_snr:\n",
    "    data, (modulation, snr) = dataset[idx]\n",
    "else:\n",
    "    data, modulation = dataset[idx]\n",
    "\n",
    "\n",
    "print(\"Dataset length: {}\".format(len(dataset)))\n",
    "print(\"Number of classes: {}\".format(num_classes))\n",
    "print(\"Data shape: {}\".format(data.shape))\n",
    "print(\"Example modulation: {}\".format(modulation))\n",
    "if include_snr:\n",
    "    print(\"SNR: {}\".format(snr))"
   ]
  },
  {
   "cell_type": "markdown",
   "id": "80db34ff-80c2-49a0-96f3-d206cb307809",
   "metadata": {
    "tags": []
   },
   "source": [
    "----\n",
    "### Plot Subset to Verify\n",
    "The `IQVisualizer` and the `SpectrogramVisualizer` can be passed a `Dataloader` and plot visualizations of the dataset. The `batch_size` of the `DataLoader` determines how many examples to plot for each iteration over the visualizer. Note that the dataset itself can be indexed and plotted sequentially using any familiar python plotting tools as an alternative plotting method to using the `torchsig` `Visualizer` as shown below."
   ]
  },
  {
   "cell_type": "code",
   "execution_count": null,
   "id": "b6b1d1fb-3663-459a-a6f7-35ca255c1365",
   "metadata": {},
   "outputs": [],
   "source": [
    "plot_dataset = dataset\n",
    "if include_snr:\n",
    "    # For plotting, omit the SNR values\n",
    "    class DataWrapper(SignalDataset):\n",
    "        def __init__(self, dataset):\n",
    "            self.dataset = dataset\n",
    "            super().__init__(dataset)\n",
    "\n",
    "        def __getitem__(self, idx):\n",
    "            x, (y, _) = self.dataset[idx]\n",
    "            return x, y\n",
    "\n",
    "        def __len__(self) -> int:\n",
    "            return len(self.dataset)\n",
    "\n",
    "    plot_dataset = DataWrapper(dataset)"
   ]
  },
  {
   "cell_type": "code",
   "execution_count": null,
   "id": "5432a961",
   "metadata": {},
   "outputs": [],
   "source": [
    "data_loader = DataLoader(dataset=plot_dataset, batch_size=16, shuffle=True)\n",
    "\n",
    "visualizer = IQVisualizer(\n",
    "    data_loader=data_loader,\n",
    "    visualize_transform=None,\n",
    ")\n",
    "\n",
    "for figure in iter(visualizer):\n",
    "    figure.set_size_inches(14, 9)\n",
    "    plt.show()\n",
    "    break"
   ]
  },
  {
   "cell_type": "code",
   "execution_count": null,
   "id": "8d299be7-63f2-47e2-8de0-c0419728d20f",
   "metadata": {},
   "outputs": [],
   "source": [
    "visualizer = SpectrogramVisualizer(\n",
    "    data_loader=data_loader,\n",
    "    nfft=1024,\n",
    "    visualize_transform=None,\n",
    ")\n",
    "\n",
    "for figure in iter(visualizer):\n",
    "    figure.set_size_inches(14, 9)\n",
    "    plt.show()\n",
    "    break"
   ]
  },
  {
   "cell_type": "markdown",
   "id": "f68a7161-f767-428b-9816-3baff7dc1787",
   "metadata": {
    "tags": []
   },
   "source": [
    "----\n",
    "### Save Data to LMDB\n",
    "As a final exercise for this example notebook, the dataset can be saved to an LMDB static dataset for offline use. Note this is similar to how the static Sig53 dataset is generated and saved to serve as a static performance evaluation dataset."
   ]
  },
  {
   "cell_type": "code",
   "execution_count": null,
   "id": "f7ec5da3-87ec-4d7a-8dfb-d9aaeb5eadf4",
   "metadata": {},
   "outputs": [],
   "source": [
    "env = lmdb.open(\"dataset\", max_dbs=3 if include_snr else 2, map_size=int(1e12))\n",
    "\n",
    "iq_sample_db = env.open_db(\"iq_samples\".encode())\n",
    "modulations_db = env.open_db(\"modulations\".encode())\n",
    "if include_snr:\n",
    "    snrs_db = env.open_db(\"snrs\".encode())"
   ]
  },
  {
   "cell_type": "code",
   "execution_count": null,
   "id": "3c6e0a36-52ca-48cb-9266-da96316fd566",
   "metadata": {},
   "outputs": [],
   "source": [
    "class_dict = dict(zip(classes, range(len(classes))))\n",
    "\n",
    "for i in tqdm(range(len(dataset))):\n",
    "    # Retrieve sample\n",
    "    if include_snr:\n",
    "        data, (modulation, snr) = dataset[i]\n",
    "    else:\n",
    "        data, modulation = dataset[i]\n",
    "\n",
    "    # Convert data from complex128 to complex64\n",
    "    data_c64 = data.astype(np.complex64)\n",
    "\n",
    "    # Save IQ data to database\n",
    "    with env.begin(write=True, db=iq_sample_db) as txn:\n",
    "        txn.put(str(i).encode(), pickle_dumps(data_c64))\n",
    "    # Save modulation to database as class index\n",
    "    with env.begin(write=True, db=modulations_db) as txn:\n",
    "        txn.put(str(i).encode(), str(class_dict[modulation]).encode())\n",
    "    if include_snr:\n",
    "        # Save SNRs to database\n",
    "        with env.begin(write=True, db=snrs_db) as txn:\n",
    "            txn.put(str(i).encode(), str(snr).encode())"
   ]
  },
  {
   "cell_type": "code",
   "execution_count": null,
   "id": "a988b188-fa07-4505-8f59-9bfab387243d",
   "metadata": {},
   "outputs": [],
   "source": []
  }
 ],
 "metadata": {
  "kernelspec": {
   "display_name": "Python 3 (ipykernel)",
   "language": "python",
   "name": "python3"
  },
  "language_info": {
   "codemirror_mode": {
    "name": "ipython",
    "version": 3
   },
   "file_extension": ".py",
   "mimetype": "text/x-python",
   "name": "python",
   "nbconvert_exporter": "python",
   "pygments_lexer": "ipython3",
   "version": "3.8.10"
  }
 },
 "nbformat": 4,
 "nbformat_minor": 5
}
