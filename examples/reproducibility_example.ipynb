{
 "cells": [
  {
   "cell_type": "markdown",
   "metadata": {},
   "source": [
    "# Reproducability and Seeding\n",
    "This notebook showcases how TorchSig handles random seeding to allow reproducable experiments.\n",
    "\n",
    "---"
   ]
  },
  {
   "cell_type": "markdown",
   "metadata": {},
   "source": [
    "## Narrowband Metadata\n",
    "As in the Narrowband Dataset example, in order to create a NewNarrowband dataset, you must define parameters in NarrowbandMetadata. This can be done either in code or inside a YAML file. Look at `narrowband_example.yaml` for a sample YAML file."
   ]
  },
  {
   "cell_type": "code",
   "execution_count": null,
   "metadata": {},
   "outputs": [],
   "source": [
    "# Define Variables\n",
    "\n",
    "num_iq_samples_dataset = 4096 # 64^2\n",
    "fft_size = 64\n",
    "impairment_level = 0 # clean"
   ]
  },
  {
   "cell_type": "code",
   "execution_count": null,
   "metadata": {},
   "outputs": [],
   "source": [
    "from torchsig.datasets.dataset_metadata import NarrowbandMetadata\n",
    "\n",
    "narrowband_metadata = NarrowbandMetadata(\n",
    "    num_iq_samples_dataset = num_iq_samples_dataset, # 64^2\n",
    "    fft_size = fft_size,\n",
    "    impairment_level = impairment_level, # clean\n",
    ")\n",
    "print(narrowband_metadata)"
   ]
  },
  {
   "cell_type": "markdown",
   "metadata": {},
   "source": [
    "## Iterable Dataset\n",
    "The TorchSigIterableDataset class inherits torch IterableDataset, and is used to sample synthetic datasets at runtime"
   ]
  },
  {
   "cell_type": "code",
   "execution_count": null,
   "metadata": {},
   "outputs": [],
   "source": [
    "from torchsig.datasets.datasets import TorchsigIterableDataset"
   ]
  },
  {
   "cell_type": "markdown",
   "metadata": {},
   "source": [
    "Creating the dataset without seeding; this print statement will create a different random signal every time you call it.\n",
    "\n",
    "If you run this cell multiple times, or if you reload this notebook and run it again it will not produce the same signal."
   ]
  },
  {
   "cell_type": "code",
   "execution_count": null,
   "metadata": {},
   "outputs": [],
   "source": [
    "narrowband_dataset = TorchsigIterableDataset(narrowband_metadata)\n",
    "print(next(narrowband_dataset)[0])\n",
    "print(next(narrowband_dataset)[0])\n",
    "print(next(narrowband_dataset)[0])"
   ]
  },
  {
   "cell_type": "code",
   "execution_count": null,
   "metadata": {},
   "outputs": [],
   "source": [
    "narrowband_dataset = TorchsigIterableDataset(narrowband_metadata)\n",
    "print(next(narrowband_dataset)[0])\n",
    "print(next(narrowband_dataset)[0])\n",
    "print(next(narrowband_dataset)[0])"
   ]
  },
  {
   "cell_type": "markdown",
   "metadata": {},
   "source": [
    "## Seeding\n",
    "All torchsig Transforms, Datasets, DatasetMetadata objects, and DataLoaders are seedable objects.\n",
    "\n",
    "This means they all have a .seed(N) method, which can be called to input a random seed. If no seed is given, the seedable object with produce its own seed and generate different random numbers every time you run your code.\n",
    "\n",
    "If you want reproducable experiments, you generally will want to call .seed(N) on some integer N of your choosing. This will ensure the same 'random' outcomes occur each time the code is executed.\n",
    "\n",
    "You don't need to seperately seed connected objects. If a dataset contains several transforms, seeding the dataset is enough to also correctly seed all of its transforms.\n",
    "\n",
    "In general, you will only need to call .seed() on the top level object you are using (typically either a dataset or a data loader).\n",
    "\n",
    "NOTE: Calling numpy.random.seed will not seed torchsig datasets; they should always be seeded explicitely if a seed is desired"
   ]
  },
  {
   "cell_type": "markdown",
   "metadata": {},
   "source": [
    "### Seeding the Dataset\n",
    "Here the same dataset from above is seeded; this code will produce the same random signals every time it is run"
   ]
  },
  {
   "cell_type": "code",
   "execution_count": null,
   "metadata": {},
   "outputs": [],
   "source": [
    "narrowband_dataset = TorchsigIterableDataset(narrowband_metadata)\n",
    "narrowband_dataset.seed(42)\n",
    "print(next(narrowband_dataset)[0])\n",
    "print(next(narrowband_dataset)[0])\n",
    "print(next(narrowband_dataset)[0])"
   ]
  },
  {
   "cell_type": "code",
   "execution_count": null,
   "metadata": {},
   "outputs": [],
   "source": [
    "narrowband_dataset = TorchsigIterableDataset(narrowband_metadata)\n",
    "narrowband_dataset.seed(42)\n",
    "print(next(narrowband_dataset)[0])\n",
    "print(next(narrowband_dataset)[0])\n",
    "print(next(narrowband_dataset)[0])"
   ]
  },
  {
   "cell_type": "markdown",
   "metadata": {},
   "source": [
    "### Seeding a DataLoader\n",
    "On a single worker threads/process, seeding a dataset alone is sufficient to reproduce results correctly.\n",
    "\n",
    "Since DataLoaders typically use several different worker threads/processes, each with a copy of the dataset, we generally want each worker to have a different seed for its copy of the dataset, so that its randomly generated data does not match that of the other workers.\n",
    "\n",
    "This is unneccessary for loading static data from files, but it is needed for loading on-the-fly random generated data correctly.\n",
    "\n",
    "To address this issue, TorchSig exposes a WorkerSeedingDataLoader, which will seed a torchsig dataset differently in all workers.\n",
    "\n",
    "NOTE: WorkerSeedingDataLoader uses it's own worker init function, and is not compatible with other custom worker init functions; the exact data generated will still depend on the configuration of workers, so it will not produce the same data with different worker counts\n",
    "\n",
    "\n",
    "In the code below, we create and seed a WorkerSeedingDataLoader for our dataset"
   ]
  },
  {
   "cell_type": "code",
   "execution_count": null,
   "metadata": {},
   "outputs": [],
   "source": [
    "from torchsig.utils.data_loading import WorkerSeedingDataLoader"
   ]
  },
  {
   "cell_type": "code",
   "execution_count": null,
   "metadata": {},
   "outputs": [],
   "source": [
    "narrowband_dataset = TorchsigIterableDataset(narrowband_metadata)\n",
    "dataloader = WorkerSeedingDataLoader(narrowband_dataset, batch_size=8, num_workers=2)\n",
    "dataloader.seed(42)\n",
    "print(next(iter(dataloader))[0])"
   ]
  },
  {
   "cell_type": "markdown",
   "metadata": {},
   "source": [
    "Because we are seeding our dataloader with the same seed value, and because both dataloaders have the same worker count, this code will produce the same batch of signals every time it is run"
   ]
  },
  {
   "cell_type": "code",
   "execution_count": null,
   "metadata": {},
   "outputs": [],
   "source": [
    "narrowband_dataset = TorchsigIterableDataset(narrowband_metadata)\n",
    "dataloader = WorkerSeedingDataLoader(narrowband_dataset, batch_size=8, num_workers=2)\n",
    "dataloader.seed(42)\n",
    "print(next(iter(dataloader))[0])"
   ]
  }
 ],
 "metadata": {
  "jupytext": {
   "formats": "ipynb,py:percent"
  },
  "kernelspec": {
   "display_name": "venvtorchsig",
   "language": "python",
   "name": "python3"
  },
  "language_info": {
   "codemirror_mode": {
    "name": "ipython",
    "version": 3
   },
   "file_extension": ".py",
   "mimetype": "text/x-python",
   "name": "python",
   "nbconvert_exporter": "python",
   "pygments_lexer": "ipython3",
   "version": "3.10.17"
  }
 },
 "nbformat": 4,
 "nbformat_minor": 4
}
