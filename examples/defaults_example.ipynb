{
 "cells": [
  {
   "cell_type": "markdown",
   "metadata": {},
   "source": [
    "# Default Datasets\n",
    "This notebook showcases how to quickly make data using the default_dataset and deefault_dataloader utils.\n",
    "\n",
    "---"
   ]
  },
  {
   "cell_type": "markdown",
   "metadata": {},
   "source": [
    "## Dataset Dataset \n",
    "default_dataset returns a TorchsigIterableDataset, with plausible default arguments for any fields not directly provided. It takes lists of transforms and component transforms, and a list of target_labels like a normal TorchsigIterableDataset, and can also be given an impairment_level, which will load and add in some signal impairments we've found useful for simulating RF signals for machine learning. All arguments are optional. default_dataset() will return a TorchsigIterableDataset that outputs single Signal objects no impairmen_level=0 and no transforms."
   ]
  },
  {
   "cell_type": "code",
   "execution_count": null,
   "metadata": {},
   "outputs": [],
   "source": [
    "from torchsig.utils.defaults import default_dataset"
   ]
  },
  {
   "cell_type": "code",
   "execution_count": null,
   "metadata": {},
   "outputs": [],
   "source": [
    "dataset = default_dataset(target_labels=[\"class_name\"])"
   ]
  },
  {
   "cell_type": "code",
   "execution_count": null,
   "metadata": {},
   "outputs": [],
   "source": [
    "next(dataset)"
   ]
  },
  {
   "cell_type": "code",
   "execution_count": null,
   "metadata": {},
   "outputs": [],
   "source": [
    "dataset = default_dataset(target_labels=[\"class_name\"], num_signals_max=5, num_signals_min=2)"
   ]
  },
  {
   "cell_type": "code",
   "execution_count": null,
   "metadata": {},
   "outputs": [],
   "source": [
    "next(dataset)"
   ]
  },
  {
   "cell_type": "markdown",
   "metadata": {},
   "source": [
    "## Dataset Dataloader \n",
    "default_dataloader returns a WorkerSeedingDataloader, with plausible default arguments for any fields not directly provided. It takes a seed to use for randomness, and a num_workers, collate_fn, and batch_size for the dataloader. All other arguments passed in will be passed down to the dataset it creates, so default_dataloader(target_labels=\\[\"snr_db\"\\]) is valid and will return the snr_db field of each signal from the dataset. All arguments are optional. There is currently no default way to collate Signal objects into Tensors in a dataloader, so in general you should pass target_labels into the function. A custom collate_fn could also be passed in to handle Signal objects as needed."
   ]
  },
  {
   "cell_type": "code",
   "execution_count": null,
   "metadata": {},
   "outputs": [],
   "source": [
    "from torchsig.utils.defaults import default_dataloader"
   ]
  },
  {
   "cell_type": "code",
   "execution_count": null,
   "metadata": {},
   "outputs": [],
   "source": [
    "dataloader = default_dataloader(target_labels=[\"class_name\"])"
   ]
  },
  {
   "cell_type": "code",
   "execution_count": null,
   "metadata": {},
   "outputs": [],
   "source": [
    "next(iter(dataloader))"
   ]
  },
  {
   "cell_type": "code",
   "execution_count": null,
   "metadata": {},
   "outputs": [],
   "source": [
    "dataloader = default_dataloader(collate_fn=lambda x: x)"
   ]
  },
  {
   "cell_type": "code",
   "execution_count": null,
   "metadata": {},
   "outputs": [],
   "source": [
    "next(iter(dataloader))"
   ]
  },
  {
   "cell_type": "code",
   "execution_count": null,
   "metadata": {},
   "outputs": [],
   "source": []
  }
 ],
 "metadata": {
  "jupytext": {
   "formats": "ipynb,py:percent"
  },
  "kernelspec": {
   "display_name": "Python 3 (ipykernel)",
   "language": "python",
   "name": "python3"
  },
  "language_info": {
   "codemirror_mode": {
    "name": "ipython",
    "version": 3
   },
   "file_extension": ".py",
   "mimetype": "text/x-python",
   "name": "python",
   "nbconvert_exporter": "python",
   "pygments_lexer": "ipython3",
   "version": "3.12.3"
  }
 },
 "nbformat": 4,
 "nbformat_minor": 4
}
