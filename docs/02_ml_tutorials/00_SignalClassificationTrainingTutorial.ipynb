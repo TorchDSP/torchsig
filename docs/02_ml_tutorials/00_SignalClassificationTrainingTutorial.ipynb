{
 "cells": [
  {
   "cell_type": "markdown",
   "id": "ff639336-c092-4882-b08e-78f8b82f741e",
   "metadata": {
    "tags": []
   },
   "source": [
    "## Signal Classification Training\n",
    "\n",
    "last updated: 2023-07-29\n",
    "\n",
    "TODO: This notebook is just a placeholder for now."
   ]
  },
  {
   "cell_type": "code",
   "execution_count": null,
   "id": "b2166e37-6a60-4088-9c60-d2bb62d7834b",
   "metadata": {},
   "outputs": [],
   "source": []
  }
 ],
 "metadata": {
  "kernelspec": {
   "display_name": "Python 3 (ipykernel)",
   "language": "python",
   "name": "python3"
  },
  "language_info": {
   "codemirror_mode": {
    "name": "ipython",
    "version": 3
   },
   "file_extension": ".py",
   "mimetype": "text/x-python",
   "name": "python",
   "nbconvert_exporter": "python",
   "pygments_lexer": "ipython3",
   "version": "3.8.13"
  }
 },
 "nbformat": 4,
 "nbformat_minor": 5
}
